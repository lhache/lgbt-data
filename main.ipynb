{
 "cells": [
  {
   "cell_type": "code",
   "execution_count": 4,
   "id": "devoted-batman",
   "metadata": {},
   "outputs": [],
   "source": [
    "# let's import the libraries we're going to use"
   ]
  },
  {
   "cell_type": "code",
   "execution_count": 1,
   "id": "level-dollar",
   "metadata": {},
   "outputs": [],
   "source": [
    "import numpy as np\n",
    "import pandas as pd\n",
    "import matplotlib.pyplot as plt\n",
    "from iso3166 import countries"
   ]
  },
  {
   "cell_type": "markdown",
   "id": "established-falls",
   "metadata": {},
   "source": [
    "# Business Understanding\n",
    "\n",
    "I wanted to compare my intuition about LGBT against data collected in a survey conducted throughout the EU (and Croatia) by the FRA (European Union Agency for Fundamental Rights). The survey details can be read https://fra.europa.eu/sites/default/files/eu-lgbt-survey-technical-report_en.pdf.\n",
    "\n",
    "I asked myself the 3 following questions:\n",
    "\n",
    "- Question 1: do LGBT people feel less discriminated in Germany compared to France?\n",
    "- Question 2: do transgenders feel more discriminated than other categories?\n",
    "- Question 3: is there a diagonal in Europe?\n",
    "\n"
   ]
  },
  {
   "cell_type": "markdown",
   "id": "conceptual-armenia",
   "metadata": {},
   "source": [
    "## Data Understanding\n",
    "\n",
    "The total amount of respondants is 93 079.\n",
    "\n",
    "The survey posseses 5 datasets, around the topics of discrimination, rights awareness, daily life and violence & harassment."
   ]
  },
  {
   "cell_type": "markdown",
   "id": "corresponding-selling",
   "metadata": {},
   "source": [
    "## Methodology\n",
    "\n",
    "The goal was to create a acceptance score from the given answers. From this score, we can compare discrimination within countries or subsets.\n",
    "\n",
    "In the case of this analysis, only the discrimination dataset was used. The responses were of 3 categories:\n",
    "\n",
    "- free text\n",
    "- yes/no/don't know\n",
    "- very rare/rare/often/very often/don't know Only the yes/no questions were selected, excluding the others.\n",
    "\n",
    "1.normalising percentages \n",
    "Each answer is given with a percentage but we cannot use them as is because the ratio of Lesbians/Gays/Bisexuals/Transgenders is normal equal within the countries. Therefore, the percentages have been normalised with the weight of each subset.\n",
    "\n",
    "2. setting a score for yes/no/don't know answers \n",
    "In order to create the acceptance score, each answer type was given a score.\n",
    "- Don't know answers were given N/A and were dropped from the analysis\n",
    "- Yes was given -1 (because pointing to more discrimination)\n",
    "- No was given 1\n",
    "\n",
    "3. setting the discrimation score \n",
    "The answer score and the weighted percentages were combined to give the acceptance score.\n"
   ]
  },
  {
   "cell_type": "markdown",
   "id": "ranking-announcement",
   "metadata": {},
   "source": [
    "### Who are the respondants"
   ]
  },
  {
   "cell_type": "markdown",
   "id": "attractive-rotation",
   "metadata": {},
   "source": [
    "#### Load the subset dataset"
   ]
  },
  {
   "cell_type": "code",
   "execution_count": 2,
   "id": "secure-prefix",
   "metadata": {},
   "outputs": [
    {
     "name": "stdout",
     "output_type": "stream",
     "text": [
      "(29, 7)\n"
     ]
    }
   ],
   "source": [
    "subset_size_df = pd.read_csv('./data/LGBT_Survey_SubsetSize.csv')\n",
    "print(subset_size_df.shape)"
   ]
  },
  {
   "cell_type": "markdown",
   "id": "certain-seven",
   "metadata": {},
   "source": [
    "#### rework the dataset"
   ]
  },
  {
   "cell_type": "code",
   "execution_count": 3,
   "id": "congressional-light",
   "metadata": {},
   "outputs": [],
   "source": [
    "# set country names from codes\n",
    "def countryNameFromCode(serie):\n",
    "    \"\"\" \n",
    "    Returns the country name associated with the given country code\n",
    "  \n",
    "    Parameters: \n",
    "    arg1 (string): Code of the country\n",
    "  \n",
    "    Returns: \n",
    "    string: Name of the country\n",
    "  \n",
    "    \"\"\"\n",
    "    country = countries.get(serie['CountryID'])\n",
    "    return country.name\n",
    "\n",
    "countryNames = subset_size_df[1:].apply(lambda row: countryNameFromCode(row), axis=1)\n",
    "subset_size_df.insert(1, column='CountryName', value=countryNames)\n",
    "\n",
    "# countries happen to change names :(\n",
    "subset_size_df['CountryName'] = subset_size_df['CountryName'].str.replace('Czechia', 'Czech Republic')\n",
    "\n",
    "# and Brexit happened\n",
    "subset_size_df['CountryName'] = subset_size_df['CountryName'].str.replace('United Kingdom of Great Britain and Northern Ireland', 'United Kingdom')\n",
    "\n",
    "# Lesbian women and Gay men need to be renamed for further matching with other files\n",
    "subset_size_df.rename(columns={'Lesbian women': 'Lesbian', 'Gay men':'Gay'}, inplace=True)\n"
   ]
  },
  {
   "cell_type": "code",
   "execution_count": null,
   "id": "extraordinary-samoa",
   "metadata": {},
   "outputs": [],
   "source": []
  },
  {
   "cell_type": "code",
   "execution_count": 4,
   "id": "fresh-poverty",
   "metadata": {},
   "outputs": [
    {
     "name": "stdout",
     "output_type": "stream",
     "text": [
      "(5,)\n",
      "Index(['Lesbian', 'Gay', 'Bisexual women', 'Bisexual men', 'Transgender'], dtype='object')\n"
     ]
    }
   ],
   "source": [
    "# create dataframe with amount of respondants per category\n",
    "labels = subset_size_df.columns[3:]\n",
    "print(labels.shape)\n",
    "print(labels)\n"
   ]
  },
  {
   "cell_type": "code",
   "execution_count": 5,
   "id": "major-toyota",
   "metadata": {},
   "outputs": [
    {
     "name": "stdout",
     "output_type": "stream",
     "text": [
      "Lesbian            437\n",
      "Gay               1558\n",
      "Bisexual women     164\n",
      "Bisexual men       217\n",
      "Transgender        167\n",
      "Name: 1, dtype: object\n"
     ]
    }
   ],
   "source": [
    "sum_of_respondants = subset_size_df.iloc[1][3:]\n",
    "print(sum_of_respondants)"
   ]
  },
  {
   "cell_type": "code",
   "execution_count": 6,
   "id": "thirty-colony",
   "metadata": {},
   "outputs": [
    {
     "data": {
      "image/png": "[encoded data removed]",
      "text/plain": [
       "<Figure size 432x288 with 1 Axes>"
      ]
     },
     "metadata": {
      "needs_background": "light"
     },
     "output_type": "display_data"
    }
   ],
   "source": [
    "index = np.arange(len(labels))\n",
    "plt.bar(index, sum_of_respondants)\n",
    "plt.xlabel('Type of respondants', fontsize=12)\n",
    "plt.ylabel('Amount', fontsize=12)\n",
    "plt.xticks(index, labels, fontsize=10, rotation=30)\n",
    "plt.title('Amount of respondants per cateogory')\n",
    "plt.show()\n"
   ]
  },
  {
   "cell_type": "markdown",
   "id": "artistic-berlin",
   "metadata": {},
   "source": [
    "#### Observations\n",
    "We can clearly see a predominence of gay men among the respondants. "
   ]
  },
  {
   "cell_type": "markdown",
   "id": "wired-novel",
   "metadata": {},
   "source": [
    "### Where do respondants live?"
   ]
  },
  {
   "cell_type": "code",
   "execution_count": 7,
   "id": "different-professor",
   "metadata": {},
   "outputs": [
    {
     "data": {
      "image/png": "[encoded data removed]",
      "text/plain": [
       "<Figure size 432x288 with 1 Axes>"
      ]
     },
     "metadata": {
      "needs_background": "light"
     },
     "output_type": "display_data"
    }
   ],
   "source": [
    "respondants_per_country_df = subset_size_df[['CountryID', 'N']][1:].sort_values(by='N', ascending=False)\n",
    "\n",
    "labels = respondants_per_country_df['CountryID']\n",
    "values = respondants_per_country_df['N']\n",
    "\n",
    "index = np.arange(len(labels))\n",
    "plt.bar(index, values)\n",
    "plt.xlabel('Country', fontsize=12)\n",
    "plt.ylabel('Amount', fontsize=12)\n",
    "plt.xticks(index, labels, fontsize=10, rotation=90)\n",
    "plt.title('Amount of respondants per country')\n",
    "plt.show()"
   ]
  },
  {
   "cell_type": "markdown",
   "id": "athletic-element",
   "metadata": {},
   "source": [
    "#### Observations\n",
    "The top 5 countries are Germany, Italy, France, Great Britain and Spain.\n",
    "No surprise, the top most represented countries are also the most populated countries in Europe."
   ]
  },
  {
   "cell_type": "markdown",
   "id": "alternative-worth",
   "metadata": {},
   "source": [
    "# Prepare Data"
   ]
  },
  {
   "cell_type": "code",
   "execution_count": 30,
   "id": "reserved-paper",
   "metadata": {},
   "outputs": [
    {
     "data": {
      "text/html": [
       "<div>\n",
       "<style scoped>\n",
       "    .dataframe tbody tr th:only-of-type {\n",
       "        vertical-align: middle;\n",
       "    }\n",
       "\n",
       "    .dataframe tbody tr th {\n",
       "        vertical-align: top;\n",
       "    }\n",
       "\n",
       "    .dataframe thead th {\n",
       "        text-align: right;\n",
       "    }\n",
       "</style>\n",
       "<table border=\"1\" class=\"dataframe\">\n",
       "  <thead>\n",
       "    <tr style=\"text-align: right;\">\n",
       "      <th></th>\n",
       "      <th>CountryID</th>\n",
       "      <th>CountryName</th>\n",
       "      <th>N</th>\n",
       "      <th>Lesbian</th>\n",
       "      <th>Gay</th>\n",
       "      <th>Bisexual women</th>\n",
       "      <th>Bisexual men</th>\n",
       "      <th>Transgender</th>\n",
       "      <th>Lesbian weight</th>\n",
       "      <th>Gay weight</th>\n",
       "      <th>Bisexual women weight</th>\n",
       "      <th>Bisexual men weight</th>\n",
       "      <th>Transgender weight</th>\n",
       "    </tr>\n",
       "  </thead>\n",
       "  <tbody>\n",
       "    <tr>\n",
       "      <th>0</th>\n",
       "      <td>EU Total</td>\n",
       "      <td>NaN</td>\n",
       "      <td>93079</td>\n",
       "      <td>15236</td>\n",
       "      <td>57448</td>\n",
       "      <td>6424</td>\n",
       "      <td>7200</td>\n",
       "      <td>6771</td>\n",
       "      <td>0.16</td>\n",
       "      <td>0.62</td>\n",
       "      <td>0.07</td>\n",
       "      <td>0.08</td>\n",
       "      <td>0.07</td>\n",
       "    </tr>\n",
       "    <tr>\n",
       "      <th>1</th>\n",
       "      <td>AT</td>\n",
       "      <td>Austria</td>\n",
       "      <td>2543</td>\n",
       "      <td>437</td>\n",
       "      <td>1558</td>\n",
       "      <td>164</td>\n",
       "      <td>217</td>\n",
       "      <td>167</td>\n",
       "      <td>0.17</td>\n",
       "      <td>0.61</td>\n",
       "      <td>0.06</td>\n",
       "      <td>0.09</td>\n",
       "      <td>0.07</td>\n",
       "    </tr>\n",
       "    <tr>\n",
       "      <th>2</th>\n",
       "      <td>BE</td>\n",
       "      <td>Belgium</td>\n",
       "      <td>2901</td>\n",
       "      <td>424</td>\n",
       "      <td>1998</td>\n",
       "      <td>132</td>\n",
       "      <td>182</td>\n",
       "      <td>165</td>\n",
       "      <td>0.15</td>\n",
       "      <td>0.69</td>\n",
       "      <td>0.05</td>\n",
       "      <td>0.06</td>\n",
       "      <td>0.06</td>\n",
       "    </tr>\n",
       "    <tr>\n",
       "      <th>3</th>\n",
       "      <td>BG</td>\n",
       "      <td>Bulgaria</td>\n",
       "      <td>1033</td>\n",
       "      <td>226</td>\n",
       "      <td>474</td>\n",
       "      <td>139</td>\n",
       "      <td>88</td>\n",
       "      <td>106</td>\n",
       "      <td>0.22</td>\n",
       "      <td>0.46</td>\n",
       "      <td>0.13</td>\n",
       "      <td>0.09</td>\n",
       "      <td>0.10</td>\n",
       "    </tr>\n",
       "    <tr>\n",
       "      <th>4</th>\n",
       "      <td>CY</td>\n",
       "      <td>Cyprus</td>\n",
       "      <td>265</td>\n",
       "      <td>41</td>\n",
       "      <td>164</td>\n",
       "      <td>18</td>\n",
       "      <td>17</td>\n",
       "      <td>25</td>\n",
       "      <td>0.15</td>\n",
       "      <td>0.62</td>\n",
       "      <td>0.07</td>\n",
       "      <td>0.06</td>\n",
       "      <td>0.09</td>\n",
       "    </tr>\n",
       "  </tbody>\n",
       "</table>\n",
       "</div>"
      ],
      "text/plain": [
       "  CountryID CountryName      N  Lesbian    Gay  Bisexual women  Bisexual men  \\\n",
       "0  EU Total         NaN  93079    15236  57448            6424          7200   \n",
       "1        AT     Austria   2543      437   1558             164           217   \n",
       "2        BE     Belgium   2901      424   1998             132           182   \n",
       "3        BG    Bulgaria   1033      226    474             139            88   \n",
       "4        CY      Cyprus    265       41    164              18            17   \n",
       "\n",
       "   Transgender  Lesbian weight  Gay weight  Bisexual women weight  \\\n",
       "0         6771            0.16        0.62                   0.07   \n",
       "1          167            0.17        0.61                   0.06   \n",
       "2          165            0.15        0.69                   0.05   \n",
       "3          106            0.22        0.46                   0.13   \n",
       "4           25            0.15        0.62                   0.07   \n",
       "\n",
       "   Bisexual men weight  Transgender weight  \n",
       "0                 0.08                0.07  \n",
       "1                 0.09                0.07  \n",
       "2                 0.06                0.06  \n",
       "3                 0.09                0.10  \n",
       "4                 0.06                0.09  "
      ]
     },
     "execution_count": 30,
     "metadata": {},
     "output_type": "execute_result"
    }
   ],
   "source": [
    "# create new weighted column for each subset\n",
    "for col in subset_size_df[1:].loc[:,'Lesbian':]:\n",
    "    subset_size_df[col + ' weight'] = subset_size_df[col] / subset_size_df['N']\n",
    "    \n",
    "subset_size_df = subset_size_df.round(2)\n",
    "subset_size_df.head()"
   ]
  },
  {
   "cell_type": "code",
   "execution_count": null,
   "id": "sunrise-diagnosis",
   "metadata": {},
   "outputs": [],
   "source": []
  },
  {
   "cell_type": "markdown",
   "id": "considerable-smooth",
   "metadata": {},
   "source": [
    "#### Filter discrimination dataset\n",
    "In the case of this project, we'll only look at answers that have yes/no/don't know answers. \n",
    "Other questions have other types of enumerations as answers so we could apply a similar logic in terms of weighting."
   ]
  },
  {
   "cell_type": "code",
   "execution_count": 10,
   "id": "electronic-journalist",
   "metadata": {},
   "outputs": [
    {
     "name": "stdout",
     "output_type": "stream",
     "text": [
      "(15775, 7)\n",
      "(6438, 7)\n"
     ]
    }
   ],
   "source": [
    "discrimination_df = pd.read_csv('./data/LGBT_Survey_Discrimination.csv')\n",
    "print(discrimination_df.shape)\n",
    "\n",
    "# select questions that only have yes/no/don't know answers\n",
    "subset_questions = ['c2a_a', 'c2a_b', 'c2a_c', 'c2a_d', 'c2_b', 'c2_c', 'c4_a', 'c4_b', 'c4_c', 'c4_d', 'c4_e', 'c4_f', 'c4_g', 'c4_h', 'c4_i', 'c4_j', 'c4_k', 'c6', ]\n",
    "\n",
    "discrimination_df = discrimination_df[discrimination_df['question_code'].isin(subset_questions)]\n",
    "print(discrimination_df.shape)\n"
   ]
  },
  {
   "cell_type": "markdown",
   "id": "interior-denver",
   "metadata": {},
   "source": [
    "#### Dropping rows"
   ]
  },
  {
   "cell_type": "code",
   "execution_count": 11,
   "id": "third-picture",
   "metadata": {},
   "outputs": [
    {
     "name": "stdout",
     "output_type": "stream",
     "text": [
      "(6216, 7)\n",
      "(5667, 7)\n"
     ]
    }
   ],
   "source": [
    "# drop Average rows\n",
    "# these rows represent the average score per question, it is metadata\n",
    "# we are not interested by this average in our score computation\n",
    "index_names = discrimination_df[ discrimination_df['CountryCode'] == 'Average' ].index \n",
    "discrimination_df.drop(index_names, inplace = True) \n",
    "print(discrimination_df.shape)\n",
    "\n",
    "# drop rows with ':' percentage\n",
    "# ':' is the equivalent of N/A in that dataset\n",
    "# as I'm already dropping the 'dont know' answers, these ones can be dropped too\n",
    "index_names = discrimination_df[ discrimination_df['percentage'] == ':' ].index \n",
    "discrimination_df.drop(index_names, inplace = True) \n",
    "print(discrimination_df.shape)"
   ]
  },
  {
   "cell_type": "markdown",
   "id": "funky-garden",
   "metadata": {},
   "source": [
    "#### Set weighted answer "
   ]
  },
  {
   "cell_type": "code",
   "execution_count": 12,
   "id": "published-testament",
   "metadata": {},
   "outputs": [
    {
     "name": "stdout",
     "output_type": "stream",
     "text": [
      "(5667, 8)\n",
      "(3778, 8)\n"
     ]
    }
   ],
   "source": [
    "def setAnswerWeight(serie):\n",
    "    \"\"\" \n",
    "    Returns the score associated to the answer variable of a Pandas Serie\n",
    "  \n",
    "    Parameters: \n",
    "    arg1 (Serie): A row in the dataset\n",
    "  \n",
    "    Returns: \n",
    "    Int | NaN: The score associated to the answer\n",
    "  \n",
    "    \"\"\"\n",
    "\n",
    "    if serie['answer'] == 'Yes':\n",
    "        return -1\n",
    "    elif serie['answer'] == 'No':\n",
    "        return 1\n",
    "    else:\n",
    "        return np.NaN;\n",
    "\n",
    "# adding weights\n",
    "discrimination_df['answer_weighted'] = discrimination_df.apply(lambda serie: setAnswerWeight(serie), axis=1)\n",
    "\n",
    "# let's see the shape now, we should see one more column\n",
    "print(discrimination_df.shape)\n",
    "\n",
    "# let's filter out the N/A on answer-weighted\n",
    "discrimination_df = discrimination_df.dropna(subset=['answer_weighted'], axis=0)\n",
    "\n",
    "# let's see the shape now, we should see less rows (approx 1/3 smaller)\n",
    "print(discrimination_df.shape)"
   ]
  },
  {
   "cell_type": "markdown",
   "id": "sunset-overall",
   "metadata": {},
   "source": [
    "#### Set weighted percentage "
   ]
  },
  {
   "cell_type": "code",
   "execution_count": 33,
   "id": "social-setting",
   "metadata": {},
   "outputs": [
    {
     "data": {
      "text/html": [
       "<div>\n",
       "<style scoped>\n",
       "    .dataframe tbody tr th:only-of-type {\n",
       "        vertical-align: middle;\n",
       "    }\n",
       "\n",
       "    .dataframe tbody tr th {\n",
       "        vertical-align: top;\n",
       "    }\n",
       "\n",
       "    .dataframe thead th {\n",
       "        text-align: right;\n",
       "    }\n",
       "</style>\n",
       "<table border=\"1\" class=\"dataframe\">\n",
       "  <thead>\n",
       "    <tr style=\"text-align: right;\">\n",
       "      <th></th>\n",
       "      <th>CountryID</th>\n",
       "      <th>CountryName</th>\n",
       "      <th>N</th>\n",
       "      <th>Lesbian</th>\n",
       "      <th>Gay</th>\n",
       "      <th>Bisexual women</th>\n",
       "      <th>Bisexual men</th>\n",
       "      <th>Transgender</th>\n",
       "      <th>Lesbian weight</th>\n",
       "      <th>Gay weight</th>\n",
       "      <th>Bisexual women weight</th>\n",
       "      <th>Bisexual men weight</th>\n",
       "      <th>Transgender weight</th>\n",
       "    </tr>\n",
       "  </thead>\n",
       "  <tbody>\n",
       "    <tr>\n",
       "      <th>0</th>\n",
       "      <td>EU Total</td>\n",
       "      <td>NaN</td>\n",
       "      <td>93079</td>\n",
       "      <td>15236</td>\n",
       "      <td>57448</td>\n",
       "      <td>6424</td>\n",
       "      <td>7200</td>\n",
       "      <td>6771</td>\n",
       "      <td>0.16</td>\n",
       "      <td>0.62</td>\n",
       "      <td>0.07</td>\n",
       "      <td>0.08</td>\n",
       "      <td>0.07</td>\n",
       "    </tr>\n",
       "    <tr>\n",
       "      <th>1</th>\n",
       "      <td>AT</td>\n",
       "      <td>Austria</td>\n",
       "      <td>2543</td>\n",
       "      <td>437</td>\n",
       "      <td>1558</td>\n",
       "      <td>164</td>\n",
       "      <td>217</td>\n",
       "      <td>167</td>\n",
       "      <td>0.17</td>\n",
       "      <td>0.61</td>\n",
       "      <td>0.06</td>\n",
       "      <td>0.09</td>\n",
       "      <td>0.07</td>\n",
       "    </tr>\n",
       "    <tr>\n",
       "      <th>2</th>\n",
       "      <td>BE</td>\n",
       "      <td>Belgium</td>\n",
       "      <td>2901</td>\n",
       "      <td>424</td>\n",
       "      <td>1998</td>\n",
       "      <td>132</td>\n",
       "      <td>182</td>\n",
       "      <td>165</td>\n",
       "      <td>0.15</td>\n",
       "      <td>0.69</td>\n",
       "      <td>0.05</td>\n",
       "      <td>0.06</td>\n",
       "      <td>0.06</td>\n",
       "    </tr>\n",
       "    <tr>\n",
       "      <th>3</th>\n",
       "      <td>BG</td>\n",
       "      <td>Bulgaria</td>\n",
       "      <td>1033</td>\n",
       "      <td>226</td>\n",
       "      <td>474</td>\n",
       "      <td>139</td>\n",
       "      <td>88</td>\n",
       "      <td>106</td>\n",
       "      <td>0.22</td>\n",
       "      <td>0.46</td>\n",
       "      <td>0.13</td>\n",
       "      <td>0.09</td>\n",
       "      <td>0.10</td>\n",
       "    </tr>\n",
       "    <tr>\n",
       "      <th>4</th>\n",
       "      <td>CY</td>\n",
       "      <td>Cyprus</td>\n",
       "      <td>265</td>\n",
       "      <td>41</td>\n",
       "      <td>164</td>\n",
       "      <td>18</td>\n",
       "      <td>17</td>\n",
       "      <td>25</td>\n",
       "      <td>0.15</td>\n",
       "      <td>0.62</td>\n",
       "      <td>0.07</td>\n",
       "      <td>0.06</td>\n",
       "      <td>0.09</td>\n",
       "    </tr>\n",
       "  </tbody>\n",
       "</table>\n",
       "</div>"
      ],
      "text/plain": [
       "  CountryID CountryName      N  Lesbian    Gay  Bisexual women  Bisexual men  \\\n",
       "0  EU Total         NaN  93079    15236  57448            6424          7200   \n",
       "1        AT     Austria   2543      437   1558             164           217   \n",
       "2        BE     Belgium   2901      424   1998             132           182   \n",
       "3        BG    Bulgaria   1033      226    474             139            88   \n",
       "4        CY      Cyprus    265       41    164              18            17   \n",
       "\n",
       "   Transgender  Lesbian weight  Gay weight  Bisexual women weight  \\\n",
       "0         6771            0.16        0.62                   0.07   \n",
       "1          167            0.17        0.61                   0.06   \n",
       "2          165            0.15        0.69                   0.05   \n",
       "3          106            0.22        0.46                   0.13   \n",
       "4           25            0.15        0.62                   0.07   \n",
       "\n",
       "   Bisexual men weight  Transgender weight  \n",
       "0                 0.08                0.07  \n",
       "1                 0.09                0.07  \n",
       "2                 0.06                0.06  \n",
       "3                 0.09                0.10  \n",
       "4                 0.06                0.09  "
      ]
     },
     "execution_count": 33,
     "metadata": {},
     "output_type": "execute_result"
    }
   ],
   "source": [
    "subset_size_df.head()"
   ]
  },
  {
   "cell_type": "code",
   "execution_count": 34,
   "id": "raised-paintball",
   "metadata": {},
   "outputs": [
    {
     "data": {
      "text/html": [
       "<div>\n",
       "<style scoped>\n",
       "    .dataframe tbody tr th:only-of-type {\n",
       "        vertical-align: middle;\n",
       "    }\n",
       "\n",
       "    .dataframe tbody tr th {\n",
       "        vertical-align: top;\n",
       "    }\n",
       "\n",
       "    .dataframe thead th {\n",
       "        text-align: right;\n",
       "    }\n",
       "</style>\n",
       "<table border=\"1\" class=\"dataframe\">\n",
       "  <thead>\n",
       "    <tr style=\"text-align: right;\">\n",
       "      <th></th>\n",
       "      <th>CountryCode</th>\n",
       "      <th>subset</th>\n",
       "      <th>question_code</th>\n",
       "      <th>question_label</th>\n",
       "      <th>answer</th>\n",
       "      <th>percentage</th>\n",
       "      <th>notes</th>\n",
       "      <th>answer_weighted</th>\n",
       "    </tr>\n",
       "  </thead>\n",
       "  <tbody>\n",
       "    <tr>\n",
       "      <th>1250</th>\n",
       "      <td>Austria</td>\n",
       "      <td>Transgender</td>\n",
       "      <td>c2a_a</td>\n",
       "      <td>In the last 12 months, in the country where yo...</td>\n",
       "      <td>Yes</td>\n",
       "      <td>36</td>\n",
       "      <td>NaN</td>\n",
       "      <td>-1.0</td>\n",
       "    </tr>\n",
       "    <tr>\n",
       "      <th>1251</th>\n",
       "      <td>Austria</td>\n",
       "      <td>Transgender</td>\n",
       "      <td>c2a_a</td>\n",
       "      <td>In the last 12 months, in the country where yo...</td>\n",
       "      <td>No</td>\n",
       "      <td>58</td>\n",
       "      <td>NaN</td>\n",
       "      <td>1.0</td>\n",
       "    </tr>\n",
       "    <tr>\n",
       "      <th>1253</th>\n",
       "      <td>Belgium</td>\n",
       "      <td>Transgender</td>\n",
       "      <td>c2a_a</td>\n",
       "      <td>In the last 12 months, in the country where yo...</td>\n",
       "      <td>Yes</td>\n",
       "      <td>30</td>\n",
       "      <td>NaN</td>\n",
       "      <td>-1.0</td>\n",
       "    </tr>\n",
       "    <tr>\n",
       "      <th>1254</th>\n",
       "      <td>Belgium</td>\n",
       "      <td>Transgender</td>\n",
       "      <td>c2a_a</td>\n",
       "      <td>In the last 12 months, in the country where yo...</td>\n",
       "      <td>No</td>\n",
       "      <td>61</td>\n",
       "      <td>NaN</td>\n",
       "      <td>1.0</td>\n",
       "    </tr>\n",
       "    <tr>\n",
       "      <th>1256</th>\n",
       "      <td>Bulgaria</td>\n",
       "      <td>Transgender</td>\n",
       "      <td>c2a_a</td>\n",
       "      <td>In the last 12 months, in the country where yo...</td>\n",
       "      <td>Yes</td>\n",
       "      <td>33</td>\n",
       "      <td>NaN</td>\n",
       "      <td>-1.0</td>\n",
       "    </tr>\n",
       "    <tr>\n",
       "      <th>1257</th>\n",
       "      <td>Bulgaria</td>\n",
       "      <td>Transgender</td>\n",
       "      <td>c2a_a</td>\n",
       "      <td>In the last 12 months, in the country where yo...</td>\n",
       "      <td>No</td>\n",
       "      <td>60</td>\n",
       "      <td>NaN</td>\n",
       "      <td>1.0</td>\n",
       "    </tr>\n",
       "    <tr>\n",
       "      <th>1262</th>\n",
       "      <td>Czech Republic</td>\n",
       "      <td>Transgender</td>\n",
       "      <td>c2a_a</td>\n",
       "      <td>In the last 12 months, in the country where yo...</td>\n",
       "      <td>Yes</td>\n",
       "      <td>39</td>\n",
       "      <td>NaN</td>\n",
       "      <td>-1.0</td>\n",
       "    </tr>\n",
       "    <tr>\n",
       "      <th>1263</th>\n",
       "      <td>Czech Republic</td>\n",
       "      <td>Transgender</td>\n",
       "      <td>c2a_a</td>\n",
       "      <td>In the last 12 months, in the country where yo...</td>\n",
       "      <td>No</td>\n",
       "      <td>58</td>\n",
       "      <td>NaN</td>\n",
       "      <td>1.0</td>\n",
       "    </tr>\n",
       "    <tr>\n",
       "      <th>1265</th>\n",
       "      <td>Germany</td>\n",
       "      <td>Transgender</td>\n",
       "      <td>c2a_a</td>\n",
       "      <td>In the last 12 months, in the country where yo...</td>\n",
       "      <td>Yes</td>\n",
       "      <td>31</td>\n",
       "      <td>NaN</td>\n",
       "      <td>-1.0</td>\n",
       "    </tr>\n",
       "    <tr>\n",
       "      <th>1266</th>\n",
       "      <td>Germany</td>\n",
       "      <td>Transgender</td>\n",
       "      <td>c2a_a</td>\n",
       "      <td>In the last 12 months, in the country where yo...</td>\n",
       "      <td>No</td>\n",
       "      <td>63</td>\n",
       "      <td>NaN</td>\n",
       "      <td>1.0</td>\n",
       "    </tr>\n",
       "  </tbody>\n",
       "</table>\n",
       "</div>"
      ],
      "text/plain": [
       "         CountryCode       subset question_code  \\\n",
       "1250         Austria  Transgender         c2a_a   \n",
       "1251         Austria  Transgender         c2a_a   \n",
       "1253         Belgium  Transgender         c2a_a   \n",
       "1254         Belgium  Transgender         c2a_a   \n",
       "1256        Bulgaria  Transgender         c2a_a   \n",
       "1257        Bulgaria  Transgender         c2a_a   \n",
       "1262  Czech Republic  Transgender         c2a_a   \n",
       "1263  Czech Republic  Transgender         c2a_a   \n",
       "1265         Germany  Transgender         c2a_a   \n",
       "1266         Germany  Transgender         c2a_a   \n",
       "\n",
       "                                         question_label answer percentage  \\\n",
       "1250  In the last 12 months, in the country where yo...    Yes         36   \n",
       "1251  In the last 12 months, in the country where yo...     No         58   \n",
       "1253  In the last 12 months, in the country where yo...    Yes         30   \n",
       "1254  In the last 12 months, in the country where yo...     No         61   \n",
       "1256  In the last 12 months, in the country where yo...    Yes         33   \n",
       "1257  In the last 12 months, in the country where yo...     No         60   \n",
       "1262  In the last 12 months, in the country where yo...    Yes         39   \n",
       "1263  In the last 12 months, in the country where yo...     No         58   \n",
       "1265  In the last 12 months, in the country where yo...    Yes         31   \n",
       "1266  In the last 12 months, in the country where yo...     No         63   \n",
       "\n",
       "     notes  answer_weighted  \n",
       "1250   NaN             -1.0  \n",
       "1251   NaN              1.0  \n",
       "1253   NaN             -1.0  \n",
       "1254   NaN              1.0  \n",
       "1256   NaN             -1.0  \n",
       "1257   NaN              1.0  \n",
       "1262   NaN             -1.0  \n",
       "1263   NaN              1.0  \n",
       "1265   NaN             -1.0  \n",
       "1266   NaN              1.0  "
      ]
     },
     "execution_count": 34,
     "metadata": {},
     "output_type": "execute_result"
    }
   ],
   "source": [
    "discrimination_df.head(10)"
   ]
  },
  {
   "cell_type": "code",
   "execution_count": 35,
   "id": "known-commander",
   "metadata": {},
   "outputs": [
    {
     "data": {
      "text/html": [
       "<div>\n",
       "<style scoped>\n",
       "    .dataframe tbody tr th:only-of-type {\n",
       "        vertical-align: middle;\n",
       "    }\n",
       "\n",
       "    .dataframe tbody tr th {\n",
       "        vertical-align: top;\n",
       "    }\n",
       "\n",
       "    .dataframe thead th {\n",
       "        text-align: right;\n",
       "    }\n",
       "</style>\n",
       "<table border=\"1\" class=\"dataframe\">\n",
       "  <thead>\n",
       "    <tr style=\"text-align: right;\">\n",
       "      <th></th>\n",
       "      <th>CountryCode</th>\n",
       "      <th>subset</th>\n",
       "      <th>question_code</th>\n",
       "      <th>question_label</th>\n",
       "      <th>answer</th>\n",
       "      <th>percentage</th>\n",
       "      <th>notes</th>\n",
       "      <th>answer_weighted</th>\n",
       "      <th>percentage_weighted</th>\n",
       "    </tr>\n",
       "  </thead>\n",
       "  <tbody>\n",
       "    <tr>\n",
       "      <th>1250</th>\n",
       "      <td>Austria</td>\n",
       "      <td>Transgender</td>\n",
       "      <td>c2a_a</td>\n",
       "      <td>In the last 12 months, in the country where yo...</td>\n",
       "      <td>Yes</td>\n",
       "      <td>36</td>\n",
       "      <td>NaN</td>\n",
       "      <td>-1.0</td>\n",
       "      <td>2.52</td>\n",
       "    </tr>\n",
       "    <tr>\n",
       "      <th>1251</th>\n",
       "      <td>Austria</td>\n",
       "      <td>Transgender</td>\n",
       "      <td>c2a_a</td>\n",
       "      <td>In the last 12 months, in the country where yo...</td>\n",
       "      <td>No</td>\n",
       "      <td>58</td>\n",
       "      <td>NaN</td>\n",
       "      <td>1.0</td>\n",
       "      <td>4.06</td>\n",
       "    </tr>\n",
       "    <tr>\n",
       "      <th>1253</th>\n",
       "      <td>Belgium</td>\n",
       "      <td>Transgender</td>\n",
       "      <td>c2a_a</td>\n",
       "      <td>In the last 12 months, in the country where yo...</td>\n",
       "      <td>Yes</td>\n",
       "      <td>30</td>\n",
       "      <td>NaN</td>\n",
       "      <td>-1.0</td>\n",
       "      <td>1.80</td>\n",
       "    </tr>\n",
       "    <tr>\n",
       "      <th>1254</th>\n",
       "      <td>Belgium</td>\n",
       "      <td>Transgender</td>\n",
       "      <td>c2a_a</td>\n",
       "      <td>In the last 12 months, in the country where yo...</td>\n",
       "      <td>No</td>\n",
       "      <td>61</td>\n",
       "      <td>NaN</td>\n",
       "      <td>1.0</td>\n",
       "      <td>3.66</td>\n",
       "    </tr>\n",
       "    <tr>\n",
       "      <th>1256</th>\n",
       "      <td>Bulgaria</td>\n",
       "      <td>Transgender</td>\n",
       "      <td>c2a_a</td>\n",
       "      <td>In the last 12 months, in the country where yo...</td>\n",
       "      <td>Yes</td>\n",
       "      <td>33</td>\n",
       "      <td>NaN</td>\n",
       "      <td>-1.0</td>\n",
       "      <td>3.30</td>\n",
       "    </tr>\n",
       "  </tbody>\n",
       "</table>\n",
       "</div>"
      ],
      "text/plain": [
       "     CountryCode       subset question_code  \\\n",
       "1250     Austria  Transgender         c2a_a   \n",
       "1251     Austria  Transgender         c2a_a   \n",
       "1253     Belgium  Transgender         c2a_a   \n",
       "1254     Belgium  Transgender         c2a_a   \n",
       "1256    Bulgaria  Transgender         c2a_a   \n",
       "\n",
       "                                         question_label answer percentage  \\\n",
       "1250  In the last 12 months, in the country where yo...    Yes         36   \n",
       "1251  In the last 12 months, in the country where yo...     No         58   \n",
       "1253  In the last 12 months, in the country where yo...    Yes         30   \n",
       "1254  In the last 12 months, in the country where yo...     No         61   \n",
       "1256  In the last 12 months, in the country where yo...    Yes         33   \n",
       "\n",
       "     notes  answer_weighted  percentage_weighted  \n",
       "1250   NaN             -1.0                 2.52  \n",
       "1251   NaN              1.0                 4.06  \n",
       "1253   NaN             -1.0                 1.80  \n",
       "1254   NaN              1.0                 3.66  \n",
       "1256   NaN             -1.0                 3.30  "
      ]
     },
     "execution_count": 35,
     "metadata": {},
     "output_type": "execute_result"
    }
   ],
   "source": [
    "def setWeightedPercentage(serie, population_weights_df):\n",
    "    \"\"\" \n",
    "    Applies a weight on percentages\n",
    "    \n",
    "    This function matches the percentage column of a Pandas Serie with weights from another dataset. \n",
    "    It creates a weighted percentage.\n",
    "  \n",
    "    Parameters: \n",
    "    arg1 (Serie): A row in the dataset\n",
    "    arg2 (DataFrame): a dataframe with population weights\n",
    "  \n",
    "    Returns: \n",
    "    Int: The weighted percentage\n",
    "  \n",
    "    \"\"\"\n",
    "    # weighted population\n",
    "    category = serie['subset']\n",
    "    population_weights_for_country = population_weights_df[population_weights_df['CountryName'] == serie['CountryCode']]\n",
    "    populationWeight = population_weights_for_country[category +' weight']\n",
    "    weightedPercentage = float(serie['percentage']) * float(populationWeight)\n",
    "    return weightedPercentage\n",
    "    \n",
    "    \n",
    "discrimination_df['percentage_weighted'] = discrimination_df.apply(lambda serie: setWeightedPercentage(serie, subset_size_df), axis=1)\n",
    "discrimination_df.head()"
   ]
  },
  {
   "cell_type": "markdown",
   "id": "respected-macro",
   "metadata": {},
   "source": [
    "#### Set weighted score"
   ]
  },
  {
   "cell_type": "code",
   "execution_count": 42,
   "id": "invalid-nashville",
   "metadata": {},
   "outputs": [
    {
     "data": {
      "text/html": [
       "<div>\n",
       "<style scoped>\n",
       "    .dataframe tbody tr th:only-of-type {\n",
       "        vertical-align: middle;\n",
       "    }\n",
       "\n",
       "    .dataframe tbody tr th {\n",
       "        vertical-align: top;\n",
       "    }\n",
       "\n",
       "    .dataframe thead th {\n",
       "        text-align: right;\n",
       "    }\n",
       "</style>\n",
       "<table border=\"1\" class=\"dataframe\">\n",
       "  <thead>\n",
       "    <tr style=\"text-align: right;\">\n",
       "      <th></th>\n",
       "      <th>CountryCode</th>\n",
       "      <th>subset</th>\n",
       "      <th>question_code</th>\n",
       "      <th>question_label</th>\n",
       "      <th>answer</th>\n",
       "      <th>percentage</th>\n",
       "      <th>notes</th>\n",
       "      <th>answer_weighted</th>\n",
       "      <th>percentage_weighted</th>\n",
       "      <th>score</th>\n",
       "      <th>acceptance_score</th>\n",
       "    </tr>\n",
       "  </thead>\n",
       "  <tbody>\n",
       "    <tr>\n",
       "      <th>1250</th>\n",
       "      <td>Austria</td>\n",
       "      <td>Transgender</td>\n",
       "      <td>c2a_a</td>\n",
       "      <td>In the last 12 months, in the country where yo...</td>\n",
       "      <td>Yes</td>\n",
       "      <td>36</td>\n",
       "      <td>NaN</td>\n",
       "      <td>-1.0</td>\n",
       "      <td>2.52</td>\n",
       "      <td>-0.0252</td>\n",
       "      <td>-0.0252</td>\n",
       "    </tr>\n",
       "    <tr>\n",
       "      <th>1251</th>\n",
       "      <td>Austria</td>\n",
       "      <td>Transgender</td>\n",
       "      <td>c2a_a</td>\n",
       "      <td>In the last 12 months, in the country where yo...</td>\n",
       "      <td>No</td>\n",
       "      <td>58</td>\n",
       "      <td>NaN</td>\n",
       "      <td>1.0</td>\n",
       "      <td>4.06</td>\n",
       "      <td>0.0406</td>\n",
       "      <td>0.0406</td>\n",
       "    </tr>\n",
       "    <tr>\n",
       "      <th>1253</th>\n",
       "      <td>Belgium</td>\n",
       "      <td>Transgender</td>\n",
       "      <td>c2a_a</td>\n",
       "      <td>In the last 12 months, in the country where yo...</td>\n",
       "      <td>Yes</td>\n",
       "      <td>30</td>\n",
       "      <td>NaN</td>\n",
       "      <td>-1.0</td>\n",
       "      <td>1.80</td>\n",
       "      <td>-0.0180</td>\n",
       "      <td>-0.0180</td>\n",
       "    </tr>\n",
       "    <tr>\n",
       "      <th>1254</th>\n",
       "      <td>Belgium</td>\n",
       "      <td>Transgender</td>\n",
       "      <td>c2a_a</td>\n",
       "      <td>In the last 12 months, in the country where yo...</td>\n",
       "      <td>No</td>\n",
       "      <td>61</td>\n",
       "      <td>NaN</td>\n",
       "      <td>1.0</td>\n",
       "      <td>3.66</td>\n",
       "      <td>0.0366</td>\n",
       "      <td>0.0366</td>\n",
       "    </tr>\n",
       "    <tr>\n",
       "      <th>1256</th>\n",
       "      <td>Bulgaria</td>\n",
       "      <td>Transgender</td>\n",
       "      <td>c2a_a</td>\n",
       "      <td>In the last 12 months, in the country where yo...</td>\n",
       "      <td>Yes</td>\n",
       "      <td>33</td>\n",
       "      <td>NaN</td>\n",
       "      <td>-1.0</td>\n",
       "      <td>3.30</td>\n",
       "      <td>-0.0330</td>\n",
       "      <td>-0.0330</td>\n",
       "    </tr>\n",
       "  </tbody>\n",
       "</table>\n",
       "</div>"
      ],
      "text/plain": [
       "     CountryCode       subset question_code  \\\n",
       "1250     Austria  Transgender         c2a_a   \n",
       "1251     Austria  Transgender         c2a_a   \n",
       "1253     Belgium  Transgender         c2a_a   \n",
       "1254     Belgium  Transgender         c2a_a   \n",
       "1256    Bulgaria  Transgender         c2a_a   \n",
       "\n",
       "                                         question_label answer percentage  \\\n",
       "1250  In the last 12 months, in the country where yo...    Yes         36   \n",
       "1251  In the last 12 months, in the country where yo...     No         58   \n",
       "1253  In the last 12 months, in the country where yo...    Yes         30   \n",
       "1254  In the last 12 months, in the country where yo...     No         61   \n",
       "1256  In the last 12 months, in the country where yo...    Yes         33   \n",
       "\n",
       "     notes  answer_weighted  percentage_weighted   score  acceptance_score  \n",
       "1250   NaN             -1.0                 2.52 -0.0252           -0.0252  \n",
       "1251   NaN              1.0                 4.06  0.0406            0.0406  \n",
       "1253   NaN             -1.0                 1.80 -0.0180           -0.0180  \n",
       "1254   NaN              1.0                 3.66  0.0366            0.0366  \n",
       "1256   NaN             -1.0                 3.30 -0.0330           -0.0330  "
      ]
     },
     "execution_count": 42,
     "metadata": {},
     "output_type": "execute_result"
    }
   ],
   "source": [
    "def setWeightedScore(serie):\n",
    "    \"\"\" \n",
    "    Creates a weighted score\n",
    "  \n",
    "    Parameters: \n",
    "    arg1 (Serie): A row in the dataset\n",
    "  \n",
    "    Returns: \n",
    "    Int: The weighted score\n",
    "  \n",
    "    \"\"\"\n",
    "    score = serie['answer_weighted'] * (serie['percentage_weighted']/100)\n",
    "    return score\n",
    "    \n",
    "    \n",
    "discrimination_df['acceptance_score'] = discrimination_df.apply(lambda serie: setWeightedScore(serie), axis=1)\n",
    "discrimination_df.head()"
   ]
  },
  {
   "cell_type": "markdown",
   "id": "floppy-resource",
   "metadata": {},
   "source": [
    "# Modeling"
   ]
  },
  {
   "cell_type": "markdown",
   "id": "outstanding-reference",
   "metadata": {},
   "source": [
    "## Grouping by country"
   ]
  },
  {
   "cell_type": "code",
   "execution_count": 43,
   "id": "reliable-victor",
   "metadata": {},
   "outputs": [
    {
     "ename": "KeyError",
     "evalue": "'score'",
     "output_type": "error",
     "traceback": [
      "\u001b[0;31m---------------------------------------------------------------------------\u001b[0m",
      "\u001b[0;31mKeyError\u001b[0m                                  Traceback (most recent call last)",
      "\u001b[0;32m<ipython-input-43-4d37b5e0a60d>\u001b[0m in \u001b[0;36m<module>\u001b[0;34m\u001b[0m\n\u001b[0;32m----> 1\u001b[0;31m \u001b[0mdiscrimination_scores_per_country\u001b[0m \u001b[0;34m=\u001b[0m \u001b[0mdiscrimination_df\u001b[0m\u001b[0;34m[\u001b[0m\u001b[0;34m[\u001b[0m\u001b[0;34m'CountryCode'\u001b[0m\u001b[0;34m,\u001b[0m \u001b[0;34m'acceptance_score'\u001b[0m\u001b[0;34m]\u001b[0m\u001b[0;34m]\u001b[0m\u001b[0;34m.\u001b[0m\u001b[0mgroupby\u001b[0m\u001b[0;34m(\u001b[0m\u001b[0mby\u001b[0m\u001b[0;34m=\u001b[0m\u001b[0;34m[\u001b[0m\u001b[0;34m'CountryCode'\u001b[0m\u001b[0;34m]\u001b[0m\u001b[0;34m)\u001b[0m\u001b[0;34m.\u001b[0m\u001b[0msum\u001b[0m\u001b[0;34m(\u001b[0m\u001b[0;34m)\u001b[0m\u001b[0;34m.\u001b[0m\u001b[0msort_values\u001b[0m\u001b[0;34m(\u001b[0m\u001b[0mby\u001b[0m\u001b[0;34m=\u001b[0m\u001b[0;34m[\u001b[0m\u001b[0;34m'score'\u001b[0m\u001b[0;34m]\u001b[0m\u001b[0;34m,\u001b[0m \u001b[0mascending\u001b[0m\u001b[0;34m=\u001b[0m\u001b[0;32mFalse\u001b[0m\u001b[0;34m)\u001b[0m\u001b[0;34m\u001b[0m\u001b[0;34m\u001b[0m\u001b[0m\n\u001b[0m",
      "\u001b[0;32m/usr/local/lib/python3.9/site-packages/pandas/core/frame.py\u001b[0m in \u001b[0;36msort_values\u001b[0;34m(self, by, axis, ascending, inplace, kind, na_position, ignore_index, key)\u001b[0m\n\u001b[1;32m   5450\u001b[0m \u001b[0;34m\u001b[0m\u001b[0m\n\u001b[1;32m   5451\u001b[0m             \u001b[0mby\u001b[0m \u001b[0;34m=\u001b[0m \u001b[0mby\u001b[0m\u001b[0;34m[\u001b[0m\u001b[0;36m0\u001b[0m\u001b[0;34m]\u001b[0m\u001b[0;34m\u001b[0m\u001b[0;34m\u001b[0m\u001b[0m\n\u001b[0;32m-> 5452\u001b[0;31m             \u001b[0mk\u001b[0m \u001b[0;34m=\u001b[0m \u001b[0mself\u001b[0m\u001b[0;34m.\u001b[0m\u001b[0m_get_label_or_level_values\u001b[0m\u001b[0;34m(\u001b[0m\u001b[0mby\u001b[0m\u001b[0;34m,\u001b[0m \u001b[0maxis\u001b[0m\u001b[0;34m=\u001b[0m\u001b[0maxis\u001b[0m\u001b[0;34m)\u001b[0m\u001b[0;34m\u001b[0m\u001b[0;34m\u001b[0m\u001b[0m\n\u001b[0m\u001b[1;32m   5453\u001b[0m \u001b[0;34m\u001b[0m\u001b[0m\n\u001b[1;32m   5454\u001b[0m             \u001b[0;31m# need to rewrap column in Series to apply key function\u001b[0m\u001b[0;34m\u001b[0m\u001b[0;34m\u001b[0m\u001b[0;34m\u001b[0m\u001b[0m\n",
      "\u001b[0;32m/usr/local/lib/python3.9/site-packages/pandas/core/generic.py\u001b[0m in \u001b[0;36m_get_label_or_level_values\u001b[0;34m(self, key, axis)\u001b[0m\n\u001b[1;32m   1679\u001b[0m             \u001b[0mvalues\u001b[0m \u001b[0;34m=\u001b[0m \u001b[0mself\u001b[0m\u001b[0;34m.\u001b[0m\u001b[0maxes\u001b[0m\u001b[0;34m[\u001b[0m\u001b[0maxis\u001b[0m\u001b[0;34m]\u001b[0m\u001b[0;34m.\u001b[0m\u001b[0mget_level_values\u001b[0m\u001b[0;34m(\u001b[0m\u001b[0mkey\u001b[0m\u001b[0;34m)\u001b[0m\u001b[0;34m.\u001b[0m\u001b[0m_values\u001b[0m\u001b[0;34m\u001b[0m\u001b[0;34m\u001b[0m\u001b[0m\n\u001b[1;32m   1680\u001b[0m         \u001b[0;32melse\u001b[0m\u001b[0;34m:\u001b[0m\u001b[0;34m\u001b[0m\u001b[0;34m\u001b[0m\u001b[0m\n\u001b[0;32m-> 1681\u001b[0;31m             \u001b[0;32mraise\u001b[0m \u001b[0mKeyError\u001b[0m\u001b[0;34m(\u001b[0m\u001b[0mkey\u001b[0m\u001b[0;34m)\u001b[0m\u001b[0;34m\u001b[0m\u001b[0;34m\u001b[0m\u001b[0m\n\u001b[0m\u001b[1;32m   1682\u001b[0m \u001b[0;34m\u001b[0m\u001b[0m\n\u001b[1;32m   1683\u001b[0m         \u001b[0;31m# Check for duplicates\u001b[0m\u001b[0;34m\u001b[0m\u001b[0;34m\u001b[0m\u001b[0;34m\u001b[0m\u001b[0m\n",
      "\u001b[0;31mKeyError\u001b[0m: 'score'"
     ]
    }
   ],
   "source": [
    "discrimination_scores_per_country = discrimination_df[['CountryCode', 'acceptance_score']].groupby(by=['CountryCode']).sum().sort_values(by=['score'], ascending=False)"
   ]
  },
  {
   "cell_type": "markdown",
   "id": "owned-badge",
   "metadata": {},
   "source": [
    "## Grouping by subset"
   ]
  },
  {
   "cell_type": "code",
   "execution_count": 44,
   "id": "enormous-welcome",
   "metadata": {},
   "outputs": [
    {
     "ename": "KeyError",
     "evalue": "'score'",
     "output_type": "error",
     "traceback": [
      "\u001b[0;31m---------------------------------------------------------------------------\u001b[0m",
      "\u001b[0;31mKeyError\u001b[0m                                  Traceback (most recent call last)",
      "\u001b[0;32m<ipython-input-44-d863fc3fd62e>\u001b[0m in \u001b[0;36m<module>\u001b[0;34m\u001b[0m\n\u001b[0;32m----> 1\u001b[0;31m \u001b[0mdiscrimination_scores_per_subset\u001b[0m \u001b[0;34m=\u001b[0m \u001b[0mdiscrimination_df\u001b[0m\u001b[0;34m[\u001b[0m\u001b[0;34m[\u001b[0m\u001b[0;34m'subset'\u001b[0m\u001b[0;34m,\u001b[0m \u001b[0;34m'acceptance_score'\u001b[0m\u001b[0;34m]\u001b[0m\u001b[0;34m]\u001b[0m\u001b[0;34m.\u001b[0m\u001b[0mgroupby\u001b[0m\u001b[0;34m(\u001b[0m\u001b[0mby\u001b[0m\u001b[0;34m=\u001b[0m\u001b[0;34m[\u001b[0m\u001b[0;34m'subset'\u001b[0m\u001b[0;34m]\u001b[0m\u001b[0;34m)\u001b[0m\u001b[0;34m.\u001b[0m\u001b[0msum\u001b[0m\u001b[0;34m(\u001b[0m\u001b[0;34m)\u001b[0m\u001b[0;34m.\u001b[0m\u001b[0msort_values\u001b[0m\u001b[0;34m(\u001b[0m\u001b[0mby\u001b[0m\u001b[0;34m=\u001b[0m\u001b[0;34m[\u001b[0m\u001b[0;34m'score'\u001b[0m\u001b[0;34m]\u001b[0m\u001b[0;34m,\u001b[0m \u001b[0mascending\u001b[0m\u001b[0;34m=\u001b[0m\u001b[0;32mFalse\u001b[0m\u001b[0;34m)\u001b[0m\u001b[0;34m\u001b[0m\u001b[0;34m\u001b[0m\u001b[0m\n\u001b[0m",
      "\u001b[0;32m/usr/local/lib/python3.9/site-packages/pandas/core/frame.py\u001b[0m in \u001b[0;36msort_values\u001b[0;34m(self, by, axis, ascending, inplace, kind, na_position, ignore_index, key)\u001b[0m\n\u001b[1;32m   5450\u001b[0m \u001b[0;34m\u001b[0m\u001b[0m\n\u001b[1;32m   5451\u001b[0m             \u001b[0mby\u001b[0m \u001b[0;34m=\u001b[0m \u001b[0mby\u001b[0m\u001b[0;34m[\u001b[0m\u001b[0;36m0\u001b[0m\u001b[0;34m]\u001b[0m\u001b[0;34m\u001b[0m\u001b[0;34m\u001b[0m\u001b[0m\n\u001b[0;32m-> 5452\u001b[0;31m             \u001b[0mk\u001b[0m \u001b[0;34m=\u001b[0m \u001b[0mself\u001b[0m\u001b[0;34m.\u001b[0m\u001b[0m_get_label_or_level_values\u001b[0m\u001b[0;34m(\u001b[0m\u001b[0mby\u001b[0m\u001b[0;34m,\u001b[0m \u001b[0maxis\u001b[0m\u001b[0;34m=\u001b[0m\u001b[0maxis\u001b[0m\u001b[0;34m)\u001b[0m\u001b[0;34m\u001b[0m\u001b[0;34m\u001b[0m\u001b[0m\n\u001b[0m\u001b[1;32m   5453\u001b[0m \u001b[0;34m\u001b[0m\u001b[0m\n\u001b[1;32m   5454\u001b[0m             \u001b[0;31m# need to rewrap column in Series to apply key function\u001b[0m\u001b[0;34m\u001b[0m\u001b[0;34m\u001b[0m\u001b[0;34m\u001b[0m\u001b[0m\n",
      "\u001b[0;32m/usr/local/lib/python3.9/site-packages/pandas/core/generic.py\u001b[0m in \u001b[0;36m_get_label_or_level_values\u001b[0;34m(self, key, axis)\u001b[0m\n\u001b[1;32m   1679\u001b[0m             \u001b[0mvalues\u001b[0m \u001b[0;34m=\u001b[0m \u001b[0mself\u001b[0m\u001b[0;34m.\u001b[0m\u001b[0maxes\u001b[0m\u001b[0;34m[\u001b[0m\u001b[0maxis\u001b[0m\u001b[0;34m]\u001b[0m\u001b[0;34m.\u001b[0m\u001b[0mget_level_values\u001b[0m\u001b[0;34m(\u001b[0m\u001b[0mkey\u001b[0m\u001b[0;34m)\u001b[0m\u001b[0;34m.\u001b[0m\u001b[0m_values\u001b[0m\u001b[0;34m\u001b[0m\u001b[0;34m\u001b[0m\u001b[0m\n\u001b[1;32m   1680\u001b[0m         \u001b[0;32melse\u001b[0m\u001b[0;34m:\u001b[0m\u001b[0;34m\u001b[0m\u001b[0;34m\u001b[0m\u001b[0m\n\u001b[0;32m-> 1681\u001b[0;31m             \u001b[0;32mraise\u001b[0m \u001b[0mKeyError\u001b[0m\u001b[0;34m(\u001b[0m\u001b[0mkey\u001b[0m\u001b[0;34m)\u001b[0m\u001b[0;34m\u001b[0m\u001b[0;34m\u001b[0m\u001b[0m\n\u001b[0m\u001b[1;32m   1682\u001b[0m \u001b[0;34m\u001b[0m\u001b[0m\n\u001b[1;32m   1683\u001b[0m         \u001b[0;31m# Check for duplicates\u001b[0m\u001b[0;34m\u001b[0m\u001b[0;34m\u001b[0m\u001b[0;34m\u001b[0m\u001b[0m\n",
      "\u001b[0;31mKeyError\u001b[0m: 'score'"
     ]
    }
   ],
   "source": [
    "discrimination_scores_per_subset = discrimination_df[['subset', 'acceptance_score']].groupby(by=['subset']).sum().sort_values(by=['score'], ascending=False)"
   ]
  },
  {
   "cell_type": "markdown",
   "id": "optional-option",
   "metadata": {},
   "source": [
    "# Analysis"
   ]
  },
  {
   "cell_type": "markdown",
   "id": "permanent-redhead",
   "metadata": {},
   "source": [
    "## Question 1: do LGBT people feel less discriminated in Germany compared to France?\n",
    "\n",
    "I am french but I'm living in Berlin since 8 years. My gut feeling says there's more acceptance towards LGBT people in Germany than in France but I would like to go through the data and look at what we can find out regarding this question.\n",
    "I also have to take personal biases into account. I was born and grew up in a very small village in south of France, which is not quite representative of the whole french population. Similarly for Germany, I've only lived in Berlin which seems much more LGBT-friendly that many other places, including the rest of Germany.\n",
    "\n",
    "So let's see what we can see from the data:\n"
   ]
  },
  {
   "cell_type": "code",
   "execution_count": 45,
   "id": "silver-large",
   "metadata": {},
   "outputs": [
    {
     "data": {
      "text/html": [
       "<div>\n",
       "<style scoped>\n",
       "    .dataframe tbody tr th:only-of-type {\n",
       "        vertical-align: middle;\n",
       "    }\n",
       "\n",
       "    .dataframe tbody tr th {\n",
       "        vertical-align: top;\n",
       "    }\n",
       "\n",
       "    .dataframe thead th {\n",
       "        text-align: right;\n",
       "    }\n",
       "</style>\n",
       "<table border=\"1\" class=\"dataframe\">\n",
       "  <thead>\n",
       "    <tr style=\"text-align: right;\">\n",
       "      <th></th>\n",
       "      <th>score</th>\n",
       "    </tr>\n",
       "    <tr>\n",
       "      <th>CountryCode</th>\n",
       "      <th></th>\n",
       "    </tr>\n",
       "  </thead>\n",
       "  <tbody>\n",
       "    <tr>\n",
       "      <th>Netherlands</th>\n",
       "      <td>11.2761</td>\n",
       "    </tr>\n",
       "    <tr>\n",
       "      <th>Denmark</th>\n",
       "      <td>11.1666</td>\n",
       "    </tr>\n",
       "    <tr>\n",
       "      <th>Belgium</th>\n",
       "      <td>10.8153</td>\n",
       "    </tr>\n",
       "    <tr>\n",
       "      <th>Czech Republic</th>\n",
       "      <td>10.7545</td>\n",
       "    </tr>\n",
       "    <tr>\n",
       "      <th>Spain</th>\n",
       "      <td>10.5499</td>\n",
       "    </tr>\n",
       "    <tr>\n",
       "      <th>Finland</th>\n",
       "      <td>10.5426</td>\n",
       "    </tr>\n",
       "    <tr>\n",
       "      <th>Sweden</th>\n",
       "      <td>10.2839</td>\n",
       "    </tr>\n",
       "    <tr>\n",
       "      <th>Germany</th>\n",
       "      <td>9.9541</td>\n",
       "    </tr>\n",
       "    <tr>\n",
       "      <th>France</th>\n",
       "      <td>9.9200</td>\n",
       "    </tr>\n",
       "    <tr>\n",
       "      <th>Austria</th>\n",
       "      <td>9.7176</td>\n",
       "    </tr>\n",
       "    <tr>\n",
       "      <th>Ireland</th>\n",
       "      <td>9.7151</td>\n",
       "    </tr>\n",
       "    <tr>\n",
       "      <th>Hungary</th>\n",
       "      <td>9.6532</td>\n",
       "    </tr>\n",
       "    <tr>\n",
       "      <th>United Kingdom</th>\n",
       "      <td>9.5761</td>\n",
       "    </tr>\n",
       "    <tr>\n",
       "      <th>Slovenia</th>\n",
       "      <td>9.4110</td>\n",
       "    </tr>\n",
       "    <tr>\n",
       "      <th>Slovakia</th>\n",
       "      <td>9.3750</td>\n",
       "    </tr>\n",
       "    <tr>\n",
       "      <th>Italy</th>\n",
       "      <td>9.2130</td>\n",
       "    </tr>\n",
       "    <tr>\n",
       "      <th>Portugal</th>\n",
       "      <td>9.2127</td>\n",
       "    </tr>\n",
       "    <tr>\n",
       "      <th>Greece</th>\n",
       "      <td>8.9950</td>\n",
       "    </tr>\n",
       "    <tr>\n",
       "      <th>Estonia</th>\n",
       "      <td>8.7607</td>\n",
       "    </tr>\n",
       "    <tr>\n",
       "      <th>Poland</th>\n",
       "      <td>8.7443</td>\n",
       "    </tr>\n",
       "    <tr>\n",
       "      <th>Bulgaria</th>\n",
       "      <td>8.4835</td>\n",
       "    </tr>\n",
       "    <tr>\n",
       "      <th>Latvia</th>\n",
       "      <td>8.4163</td>\n",
       "    </tr>\n",
       "    <tr>\n",
       "      <th>Croatia</th>\n",
       "      <td>8.1660</td>\n",
       "    </tr>\n",
       "    <tr>\n",
       "      <th>Malta</th>\n",
       "      <td>7.9975</td>\n",
       "    </tr>\n",
       "    <tr>\n",
       "      <th>Luxembourg</th>\n",
       "      <td>7.9921</td>\n",
       "    </tr>\n",
       "    <tr>\n",
       "      <th>Lithuania</th>\n",
       "      <td>7.7235</td>\n",
       "    </tr>\n",
       "    <tr>\n",
       "      <th>Romania</th>\n",
       "      <td>7.5607</td>\n",
       "    </tr>\n",
       "    <tr>\n",
       "      <th>Cyprus</th>\n",
       "      <td>5.8291</td>\n",
       "    </tr>\n",
       "  </tbody>\n",
       "</table>\n",
       "</div>"
      ],
      "text/plain": [
       "                  score\n",
       "CountryCode            \n",
       "Netherlands     11.2761\n",
       "Denmark         11.1666\n",
       "Belgium         10.8153\n",
       "Czech Republic  10.7545\n",
       "Spain           10.5499\n",
       "Finland         10.5426\n",
       "Sweden          10.2839\n",
       "Germany          9.9541\n",
       "France           9.9200\n",
       "Austria          9.7176\n",
       "Ireland          9.7151\n",
       "Hungary          9.6532\n",
       "United Kingdom   9.5761\n",
       "Slovenia         9.4110\n",
       "Slovakia         9.3750\n",
       "Italy            9.2130\n",
       "Portugal         9.2127\n",
       "Greece           8.9950\n",
       "Estonia          8.7607\n",
       "Poland           8.7443\n",
       "Bulgaria         8.4835\n",
       "Latvia           8.4163\n",
       "Croatia          8.1660\n",
       "Malta            7.9975\n",
       "Luxembourg       7.9921\n",
       "Lithuania        7.7235\n",
       "Romania          7.5607\n",
       "Cyprus           5.8291"
      ]
     },
     "execution_count": 45,
     "metadata": {},
     "output_type": "execute_result"
    }
   ],
   "source": [
    "discrimination_scores_per_country.head(30)"
   ]
  },
  {
   "cell_type": "markdown",
   "id": "painful-moscow",
   "metadata": {},
   "source": [
    "####Conclusion \n",
    "The data seem to indicate there is not much real difference between France and Germany."
   ]
  },
  {
   "cell_type": "markdown",
   "id": "external-passenger",
   "metadata": {},
   "source": [
    "## Question 2: do transgenders feel more discriminated than other categories?\n",
    "\n",
    "My gut feeling is that there is more discrimination towards transgenders than towards homosexuals or bisexuals.\n"
   ]
  },
  {
   "cell_type": "code",
   "execution_count": 46,
   "id": "seeing-buyer",
   "metadata": {},
   "outputs": [
    {
     "data": {
      "text/html": [
       "<div>\n",
       "<style scoped>\n",
       "    .dataframe tbody tr th:only-of-type {\n",
       "        vertical-align: middle;\n",
       "    }\n",
       "\n",
       "    .dataframe tbody tr th {\n",
       "        vertical-align: top;\n",
       "    }\n",
       "\n",
       "    .dataframe thead th {\n",
       "        text-align: right;\n",
       "    }\n",
       "</style>\n",
       "<table border=\"1\" class=\"dataframe\">\n",
       "  <thead>\n",
       "    <tr style=\"text-align: right;\">\n",
       "      <th></th>\n",
       "      <th>score</th>\n",
       "    </tr>\n",
       "    <tr>\n",
       "      <th>subset</th>\n",
       "      <th></th>\n",
       "    </tr>\n",
       "  </thead>\n",
       "  <tbody>\n",
       "    <tr>\n",
       "      <th>Gay</th>\n",
       "      <td>156.2240</td>\n",
       "    </tr>\n",
       "    <tr>\n",
       "      <th>Lesbian</th>\n",
       "      <td>46.7058</td>\n",
       "    </tr>\n",
       "    <tr>\n",
       "      <th>Bisexual women</th>\n",
       "      <td>23.7693</td>\n",
       "    </tr>\n",
       "    <tr>\n",
       "      <th>Bisexual men</th>\n",
       "      <td>18.6038</td>\n",
       "    </tr>\n",
       "    <tr>\n",
       "      <th>Transgender</th>\n",
       "      <td>14.5025</td>\n",
       "    </tr>\n",
       "  </tbody>\n",
       "</table>\n",
       "</div>"
      ],
      "text/plain": [
       "                   score\n",
       "subset                  \n",
       "Gay             156.2240\n",
       "Lesbian          46.7058\n",
       "Bisexual women   23.7693\n",
       "Bisexual men     18.6038\n",
       "Transgender      14.5025"
      ]
     },
     "execution_count": 46,
     "metadata": {},
     "output_type": "execute_result"
    }
   ],
   "source": [
    "discrimination_scores_per_subset.head()"
   ]
  },
  {
   "cell_type": "markdown",
   "id": "fitting-trailer",
   "metadata": {},
   "source": [
    "#### Conclusion \n",
    "The data seems to indicate that yes, transgenders seem to be/feel more discriminated than the other members of the LGBT people."
   ]
  },
  {
   "cell_type": "markdown",
   "id": "returning-weekend",
   "metadata": {},
   "source": [
    "## Question 3: is there a diagonal in Europe?\n",
    "\n",
    "I've got to travel quite a bit and have had the chance to meet people from many many different countries. I'd say that Scandinavia and western Europe tend to be acceptive towards LGBT, while eastern Europe would be on the other side of the spectrum."
   ]
  },
  {
   "cell_type": "code",
   "execution_count": null,
   "id": "corporate-rebecca",
   "metadata": {},
   "outputs": [],
   "source": []
  },
  {
   "cell_type": "code",
   "execution_count": 47,
   "id": "vietnamese-detail",
   "metadata": {},
   "outputs": [
    {
     "data": {
      "application/vnd.plotly.v1+json": {
       "config": {
        "plotlyServerURL": "https://plot.ly"
       },
       "data": [
        {
         "autocolorscale": false,
         "colorbar": {
          "title": {
           "text": "Acceptance score"
          }
         },
         "colorscale": [
          [
           0,
           "rgb(0,0,0)"
          ],
          [
           0.3333333333333333,
           "rgb(230,0,0)"
          ],
          [
           0.6666666666666666,
           "rgb(255,210,0)"
          ],
          [
           1,
           "rgb(255,255,255)"
          ]
         ],
         "locationmode": "country names",
         "locations": [
          null,
          "Austria",
          "Belgium",
          "Bulgaria",
          "Cyprus",
          "Czech Republic",
          "Germany",
          "Denmark",
          "Estonia",
          "Greece",
          "Spain",
          "Finland",
          "France",
          "Hungary",
          "Ireland",
          "Italy",
          "Lithuania",
          "Luxembourg",
          "Latvia",
          "Malta",
          "Netherlands",
          "Poland",
          "Portugal",
          "Romania",
          "Sweden",
          "Slovenia",
          "Slovakia",
          "United Kingdom",
          "Croatia"
         ],
         "marker": {
          "line": {
           "color": "white"
          }
         },
         "text": "",
         "type": "choropleth",
         "z": [
          11.276099999999994,
          11.166600000000004,
          10.815299999999999,
          10.754500000000004,
          10.5499,
          10.542599999999998,
          10.283899999999997,
          9.954100000000004,
          9.920000000000002,
          9.7176,
          9.715100000000001,
          9.653200000000002,
          9.576100000000002,
          9.411000000000001,
          9.374999999999998,
          9.213,
          9.212700000000002,
          8.995000000000001,
          8.7607,
          8.744299999999999,
          8.483500000000005,
          8.416300000000001,
          8.166000000000002,
          7.997499999999999,
          7.992099999999999,
          7.723500000000001,
          7.560700000000002,
          5.829099999999999
         ]
        }
       ],
       "layout": {
        "geo": {
         "fitbounds": "locations",
         "projection": {
          "type": "mercator"
         },
         "resolution": 110,
         "scope": "europe",
         "showframe": false,
         "visible": false
        },
        "template": {
         "data": {
          "bar": [
           {
            "error_x": {
             "color": "#2a3f5f"
            },
            "error_y": {
             "color": "#2a3f5f"
            },
            "marker": {
             "line": {
              "color": "#E5ECF6",
              "width": 0.5
             }
            },
            "type": "bar"
           }
          ],
          "barpolar": [
           {
            "marker": {
             "line": {
              "color": "#E5ECF6",
              "width": 0.5
             }
            },
            "type": "barpolar"
           }
          ],
          "carpet": [
           {
            "aaxis": {
             "endlinecolor": "#2a3f5f",
             "gridcolor": "white",
             "linecolor": "white",
             "minorgridcolor": "white",
             "startlinecolor": "#2a3f5f"
            },
            "baxis": {
             "endlinecolor": "#2a3f5f",
             "gridcolor": "white",
             "linecolor": "white",
             "minorgridcolor": "white",
             "startlinecolor": "#2a3f5f"
            },
            "type": "carpet"
           }
          ],
          "choropleth": [
           {
            "colorbar": {
             "outlinewidth": 0,
             "ticks": ""
            },
            "type": "choropleth"
           }
          ],
          "contour": [
           {
            "colorbar": {
             "outlinewidth": 0,
             "ticks": ""
            },
            "colorscale": [
             [
              0,
              "#0d0887"
             ],
             [
              0.1111111111111111,
              "#46039f"
             ],
             [
              0.2222222222222222,
              "#7201a8"
             ],
             [
              0.3333333333333333,
              "#9c179e"
             ],
             [
              0.4444444444444444,
              "#bd3786"
             ],
             [
              0.5555555555555556,
              "#d8576b"
             ],
             [
              0.6666666666666666,
              "#ed7953"
             ],
             [
              0.7777777777777778,
              "#fb9f3a"
             ],
             [
              0.8888888888888888,
              "#fdca26"
             ],
             [
              1,
              "#f0f921"
             ]
            ],
            "type": "contour"
           }
          ],
          "contourcarpet": [
           {
            "colorbar": {
             "outlinewidth": 0,
             "ticks": ""
            },
            "type": "contourcarpet"
           }
          ],
          "heatmap": [
           {
            "colorbar": {
             "outlinewidth": 0,
             "ticks": ""
            },
            "colorscale": [
             [
              0,
              "#0d0887"
             ],
             [
              0.1111111111111111,
              "#46039f"
             ],
             [
              0.2222222222222222,
              "#7201a8"
             ],
             [
              0.3333333333333333,
              "#9c179e"
             ],
             [
              0.4444444444444444,
              "#bd3786"
             ],
             [
              0.5555555555555556,
              "#d8576b"
             ],
             [
              0.6666666666666666,
              "#ed7953"
             ],
             [
              0.7777777777777778,
              "#fb9f3a"
             ],
             [
              0.8888888888888888,
              "#fdca26"
             ],
             [
              1,
              "#f0f921"
             ]
            ],
            "type": "heatmap"
           }
          ],
          "heatmapgl": [
           {
            "colorbar": {
             "outlinewidth": 0,
             "ticks": ""
            },
            "colorscale": [
             [
              0,
              "#0d0887"
             ],
             [
              0.1111111111111111,
              "#46039f"
             ],
             [
              0.2222222222222222,
              "#7201a8"
             ],
             [
              0.3333333333333333,
              "#9c179e"
             ],
             [
              0.4444444444444444,
              "#bd3786"
             ],
             [
              0.5555555555555556,
              "#d8576b"
             ],
             [
              0.6666666666666666,
              "#ed7953"
             ],
             [
              0.7777777777777778,
              "#fb9f3a"
             ],
             [
              0.8888888888888888,
              "#fdca26"
             ],
             [
              1,
              "#f0f921"
             ]
            ],
            "type": "heatmapgl"
           }
          ],
          "histogram": [
           {
            "marker": {
             "colorbar": {
              "outlinewidth": 0,
              "ticks": ""
             }
            },
            "type": "histogram"
           }
          ],
          "histogram2d": [
           {
            "colorbar": {
             "outlinewidth": 0,
             "ticks": ""
            },
            "colorscale": [
             [
              0,
              "#0d0887"
             ],
             [
              0.1111111111111111,
              "#46039f"
             ],
             [
              0.2222222222222222,
              "#7201a8"
             ],
             [
              0.3333333333333333,
              "#9c179e"
             ],
             [
              0.4444444444444444,
              "#bd3786"
             ],
             [
              0.5555555555555556,
              "#d8576b"
             ],
             [
              0.6666666666666666,
              "#ed7953"
             ],
             [
              0.7777777777777778,
              "#fb9f3a"
             ],
             [
              0.8888888888888888,
              "#fdca26"
             ],
             [
              1,
              "#f0f921"
             ]
            ],
            "type": "histogram2d"
           }
          ],
          "histogram2dcontour": [
           {
            "colorbar": {
             "outlinewidth": 0,
             "ticks": ""
            },
            "colorscale": [
             [
              0,
              "#0d0887"
             ],
             [
              0.1111111111111111,
              "#46039f"
             ],
             [
              0.2222222222222222,
              "#7201a8"
             ],
             [
              0.3333333333333333,
              "#9c179e"
             ],
             [
              0.4444444444444444,
              "#bd3786"
             ],
             [
              0.5555555555555556,
              "#d8576b"
             ],
             [
              0.6666666666666666,
              "#ed7953"
             ],
             [
              0.7777777777777778,
              "#fb9f3a"
             ],
             [
              0.8888888888888888,
              "#fdca26"
             ],
             [
              1,
              "#f0f921"
             ]
            ],
            "type": "histogram2dcontour"
           }
          ],
          "mesh3d": [
           {
            "colorbar": {
             "outlinewidth": 0,
             "ticks": ""
            },
            "type": "mesh3d"
           }
          ],
          "parcoords": [
           {
            "line": {
             "colorbar": {
              "outlinewidth": 0,
              "ticks": ""
             }
            },
            "type": "parcoords"
           }
          ],
          "pie": [
           {
            "automargin": true,
            "type": "pie"
           }
          ],
          "scatter": [
           {
            "marker": {
             "colorbar": {
              "outlinewidth": 0,
              "ticks": ""
             }
            },
            "type": "scatter"
           }
          ],
          "scatter3d": [
           {
            "line": {
             "colorbar": {
              "outlinewidth": 0,
              "ticks": ""
             }
            },
            "marker": {
             "colorbar": {
              "outlinewidth": 0,
              "ticks": ""
             }
            },
            "type": "scatter3d"
           }
          ],
          "scattercarpet": [
           {
            "marker": {
             "colorbar": {
              "outlinewidth": 0,
              "ticks": ""
             }
            },
            "type": "scattercarpet"
           }
          ],
          "scattergeo": [
           {
            "marker": {
             "colorbar": {
              "outlinewidth": 0,
              "ticks": ""
             }
            },
            "type": "scattergeo"
           }
          ],
          "scattergl": [
           {
            "marker": {
             "colorbar": {
              "outlinewidth": 0,
              "ticks": ""
             }
            },
            "type": "scattergl"
           }
          ],
          "scattermapbox": [
           {
            "marker": {
             "colorbar": {
              "outlinewidth": 0,
              "ticks": ""
             }
            },
            "type": "scattermapbox"
           }
          ],
          "scatterpolar": [
           {
            "marker": {
             "colorbar": {
              "outlinewidth": 0,
              "ticks": ""
             }
            },
            "type": "scatterpolar"
           }
          ],
          "scatterpolargl": [
           {
            "marker": {
             "colorbar": {
              "outlinewidth": 0,
              "ticks": ""
             }
            },
            "type": "scatterpolargl"
           }
          ],
          "scatterternary": [
           {
            "marker": {
             "colorbar": {
              "outlinewidth": 0,
              "ticks": ""
             }
            },
            "type": "scatterternary"
           }
          ],
          "surface": [
           {
            "colorbar": {
             "outlinewidth": 0,
             "ticks": ""
            },
            "colorscale": [
             [
              0,
              "#0d0887"
             ],
             [
              0.1111111111111111,
              "#46039f"
             ],
             [
              0.2222222222222222,
              "#7201a8"
             ],
             [
              0.3333333333333333,
              "#9c179e"
             ],
             [
              0.4444444444444444,
              "#bd3786"
             ],
             [
              0.5555555555555556,
              "#d8576b"
             ],
             [
              0.6666666666666666,
              "#ed7953"
             ],
             [
              0.7777777777777778,
              "#fb9f3a"
             ],
             [
              0.8888888888888888,
              "#fdca26"
             ],
             [
              1,
              "#f0f921"
             ]
            ],
            "type": "surface"
           }
          ],
          "table": [
           {
            "cells": {
             "fill": {
              "color": "#EBF0F8"
             },
             "line": {
              "color": "white"
             }
            },
            "header": {
             "fill": {
              "color": "#C8D4E3"
             },
             "line": {
              "color": "white"
             }
            },
            "type": "table"
           }
          ]
         },
         "layout": {
          "annotationdefaults": {
           "arrowcolor": "#2a3f5f",
           "arrowhead": 0,
           "arrowwidth": 1
          },
          "autotypenumbers": "strict",
          "coloraxis": {
           "colorbar": {
            "outlinewidth": 0,
            "ticks": ""
           }
          },
          "colorscale": {
           "diverging": [
            [
             0,
             "#8e0152"
            ],
            [
             0.1,
             "#c51b7d"
            ],
            [
             0.2,
             "#de77ae"
            ],
            [
             0.3,
             "#f1b6da"
            ],
            [
             0.4,
             "#fde0ef"
            ],
            [
             0.5,
             "#f7f7f7"
            ],
            [
             0.6,
             "#e6f5d0"
            ],
            [
             0.7,
             "#b8e186"
            ],
            [
             0.8,
             "#7fbc41"
            ],
            [
             0.9,
             "#4d9221"
            ],
            [
             1,
             "#276419"
            ]
           ],
           "sequential": [
            [
             0,
             "#0d0887"
            ],
            [
             0.1111111111111111,
             "#46039f"
            ],
            [
             0.2222222222222222,
             "#7201a8"
            ],
            [
             0.3333333333333333,
             "#9c179e"
            ],
            [
             0.4444444444444444,
             "#bd3786"
            ],
            [
             0.5555555555555556,
             "#d8576b"
            ],
            [
             0.6666666666666666,
             "#ed7953"
            ],
            [
             0.7777777777777778,
             "#fb9f3a"
            ],
            [
             0.8888888888888888,
             "#fdca26"
            ],
            [
             1,
             "#f0f921"
            ]
           ],
           "sequentialminus": [
            [
             0,
             "#0d0887"
            ],
            [
             0.1111111111111111,
             "#46039f"
            ],
            [
             0.2222222222222222,
             "#7201a8"
            ],
            [
             0.3333333333333333,
             "#9c179e"
            ],
            [
             0.4444444444444444,
             "#bd3786"
            ],
            [
             0.5555555555555556,
             "#d8576b"
            ],
            [
             0.6666666666666666,
             "#ed7953"
            ],
            [
             0.7777777777777778,
             "#fb9f3a"
            ],
            [
             0.8888888888888888,
             "#fdca26"
            ],
            [
             1,
             "#f0f921"
            ]
           ]
          },
          "colorway": [
           "#636efa",
           "#EF553B",
           "#00cc96",
           "#ab63fa",
           "#FFA15A",
           "#19d3f3",
           "#FF6692",
           "#B6E880",
           "#FF97FF",
           "#FECB52"
          ],
          "font": {
           "color": "#2a3f5f"
          },
          "geo": {
           "bgcolor": "white",
           "lakecolor": "white",
           "landcolor": "#E5ECF6",
           "showlakes": true,
           "showland": true,
           "subunitcolor": "white"
          },
          "hoverlabel": {
           "align": "left"
          },
          "hovermode": "closest",
          "mapbox": {
           "style": "light"
          },
          "paper_bgcolor": "white",
          "plot_bgcolor": "#E5ECF6",
          "polar": {
           "angularaxis": {
            "gridcolor": "white",
            "linecolor": "white",
            "ticks": ""
           },
           "bgcolor": "#E5ECF6",
           "radialaxis": {
            "gridcolor": "white",
            "linecolor": "white",
            "ticks": ""
           }
          },
          "scene": {
           "xaxis": {
            "backgroundcolor": "#E5ECF6",
            "gridcolor": "white",
            "gridwidth": 2,
            "linecolor": "white",
            "showbackground": true,
            "ticks": "",
            "zerolinecolor": "white"
           },
           "yaxis": {
            "backgroundcolor": "#E5ECF6",
            "gridcolor": "white",
            "gridwidth": 2,
            "linecolor": "white",
            "showbackground": true,
            "ticks": "",
            "zerolinecolor": "white"
           },
           "zaxis": {
            "backgroundcolor": "#E5ECF6",
            "gridcolor": "white",
            "gridwidth": 2,
            "linecolor": "white",
            "showbackground": true,
            "ticks": "",
            "zerolinecolor": "white"
           }
          },
          "shapedefaults": {
           "line": {
            "color": "#2a3f5f"
           }
          },
          "ternary": {
           "aaxis": {
            "gridcolor": "white",
            "linecolor": "white",
            "ticks": ""
           },
           "baxis": {
            "gridcolor": "white",
            "linecolor": "white",
            "ticks": ""
           },
           "bgcolor": "#E5ECF6",
           "caxis": {
            "gridcolor": "white",
            "linecolor": "white",
            "ticks": ""
           }
          },
          "title": {
           "x": 0.05
          },
          "xaxis": {
           "automargin": true,
           "gridcolor": "white",
           "linecolor": "white",
           "ticks": "",
           "title": {
            "standoff": 15
           },
           "zerolinecolor": "white",
           "zerolinewidth": 2
          },
          "yaxis": {
           "automargin": true,
           "gridcolor": "white",
           "linecolor": "white",
           "ticks": "",
           "title": {
            "standoff": 15
           },
           "zerolinecolor": "white",
           "zerolinewidth": 2
          }
         }
        }
       }
      },
      "text/html": [
       "<div>                            <div id=\"e673160c-2f51-400a-bcc8-3c40341fb792\" class=\"plotly-graph-div\" style=\"height:525px; width:100%;\"></div>            <script type=\"text/javascript\">                require([\"plotly\"], function(Plotly) {                    window.PLOTLYENV=window.PLOTLYENV || {};                                    if (document.getElementById(\"e673160c-2f51-400a-bcc8-3c40341fb792\")) {                    Plotly.newPlot(                        \"e673160c-2f51-400a-bcc8-3c40341fb792\",                        [{\"autocolorscale\": false, \"colorbar\": {\"title\": {\"text\": \"Acceptance score\"}}, \"colorscale\": [[0.0, \"rgb(0,0,0)\"], [0.3333333333333333, \"rgb(230,0,0)\"], [0.6666666666666666, \"rgb(255,210,0)\"], [1.0, \"rgb(255,255,255)\"]], \"locationmode\": \"country names\", \"locations\": [null, \"Austria\", \"Belgium\", \"Bulgaria\", \"Cyprus\", \"Czech Republic\", \"Germany\", \"Denmark\", \"Estonia\", \"Greece\", \"Spain\", \"Finland\", \"France\", \"Hungary\", \"Ireland\", \"Italy\", \"Lithuania\", \"Luxembourg\", \"Latvia\", \"Malta\", \"Netherlands\", \"Poland\", \"Portugal\", \"Romania\", \"Sweden\", \"Slovenia\", \"Slovakia\", \"United Kingdom\", \"Croatia\"], \"marker\": {\"line\": {\"color\": \"white\"}}, \"text\": \"\", \"type\": \"choropleth\", \"z\": [11.276099999999994, 11.166600000000004, 10.815299999999999, 10.754500000000004, 10.5499, 10.542599999999998, 10.283899999999997, 9.954100000000004, 9.920000000000002, 9.7176, 9.715100000000001, 9.653200000000002, 9.576100000000002, 9.411000000000001, 9.374999999999998, 9.213, 9.212700000000002, 8.995000000000001, 8.7607, 8.744299999999999, 8.483500000000005, 8.416300000000001, 8.166000000000002, 7.997499999999999, 7.992099999999999, 7.723500000000001, 7.560700000000002, 5.829099999999999]}],                        {\"geo\": {\"fitbounds\": \"locations\", \"projection\": {\"type\": \"mercator\"}, \"resolution\": 110, \"scope\": \"europe\", \"showframe\": false, \"visible\": false}, \"template\": {\"data\": {\"bar\": [{\"error_x\": {\"color\": \"#2a3f5f\"}, \"error_y\": {\"color\": \"#2a3f5f\"}, \"marker\": {\"line\": {\"color\": \"#E5ECF6\", \"width\": 0.5}}, \"type\": \"bar\"}], \"barpolar\": [{\"marker\": {\"line\": {\"color\": \"#E5ECF6\", \"width\": 0.5}}, \"type\": \"barpolar\"}], \"carpet\": [{\"aaxis\": {\"endlinecolor\": \"#2a3f5f\", \"gridcolor\": \"white\", \"linecolor\": \"white\", \"minorgridcolor\": \"white\", \"startlinecolor\": \"#2a3f5f\"}, \"baxis\": {\"endlinecolor\": \"#2a3f5f\", \"gridcolor\": \"white\", \"linecolor\": \"white\", \"minorgridcolor\": \"white\", \"startlinecolor\": \"#2a3f5f\"}, \"type\": \"carpet\"}], \"choropleth\": [{\"colorbar\": {\"outlinewidth\": 0, \"ticks\": \"\"}, \"type\": \"choropleth\"}], \"contour\": [{\"colorbar\": {\"outlinewidth\": 0, \"ticks\": \"\"}, \"colorscale\": [[0.0, \"#0d0887\"], [0.1111111111111111, \"#46039f\"], [0.2222222222222222, \"#7201a8\"], [0.3333333333333333, \"#9c179e\"], [0.4444444444444444, \"#bd3786\"], [0.5555555555555556, \"#d8576b\"], [0.6666666666666666, \"#ed7953\"], [0.7777777777777778, \"#fb9f3a\"], [0.8888888888888888, \"#fdca26\"], [1.0, \"#f0f921\"]], \"type\": \"contour\"}], \"contourcarpet\": [{\"colorbar\": {\"outlinewidth\": 0, \"ticks\": \"\"}, \"type\": \"contourcarpet\"}], \"heatmap\": [{\"colorbar\": {\"outlinewidth\": 0, \"ticks\": \"\"}, \"colorscale\": [[0.0, \"#0d0887\"], [0.1111111111111111, \"#46039f\"], [0.2222222222222222, \"#7201a8\"], [0.3333333333333333, \"#9c179e\"], [0.4444444444444444, \"#bd3786\"], [0.5555555555555556, \"#d8576b\"], [0.6666666666666666, \"#ed7953\"], [0.7777777777777778, \"#fb9f3a\"], [0.8888888888888888, \"#fdca26\"], [1.0, \"#f0f921\"]], \"type\": \"heatmap\"}], \"heatmapgl\": [{\"colorbar\": {\"outlinewidth\": 0, \"ticks\": \"\"}, \"colorscale\": [[0.0, \"#0d0887\"], [0.1111111111111111, \"#46039f\"], [0.2222222222222222, \"#7201a8\"], [0.3333333333333333, \"#9c179e\"], [0.4444444444444444, \"#bd3786\"], [0.5555555555555556, \"#d8576b\"], [0.6666666666666666, \"#ed7953\"], [0.7777777777777778, \"#fb9f3a\"], [0.8888888888888888, \"#fdca26\"], [1.0, \"#f0f921\"]], \"type\": \"heatmapgl\"}], \"histogram\": [{\"marker\": {\"colorbar\": {\"outlinewidth\": 0, \"ticks\": \"\"}}, \"type\": \"histogram\"}], \"histogram2d\": [{\"colorbar\": {\"outlinewidth\": 0, \"ticks\": \"\"}, \"colorscale\": [[0.0, \"#0d0887\"], [0.1111111111111111, \"#46039f\"], [0.2222222222222222, \"#7201a8\"], [0.3333333333333333, \"#9c179e\"], [0.4444444444444444, \"#bd3786\"], [0.5555555555555556, \"#d8576b\"], [0.6666666666666666, \"#ed7953\"], [0.7777777777777778, \"#fb9f3a\"], [0.8888888888888888, \"#fdca26\"], [1.0, \"#f0f921\"]], \"type\": \"histogram2d\"}], \"histogram2dcontour\": [{\"colorbar\": {\"outlinewidth\": 0, \"ticks\": \"\"}, \"colorscale\": [[0.0, \"#0d0887\"], [0.1111111111111111, \"#46039f\"], [0.2222222222222222, \"#7201a8\"], [0.3333333333333333, \"#9c179e\"], [0.4444444444444444, \"#bd3786\"], [0.5555555555555556, \"#d8576b\"], [0.6666666666666666, \"#ed7953\"], [0.7777777777777778, \"#fb9f3a\"], [0.8888888888888888, \"#fdca26\"], [1.0, \"#f0f921\"]], \"type\": \"histogram2dcontour\"}], \"mesh3d\": [{\"colorbar\": {\"outlinewidth\": 0, \"ticks\": \"\"}, \"type\": \"mesh3d\"}], \"parcoords\": [{\"line\": {\"colorbar\": {\"outlinewidth\": 0, \"ticks\": \"\"}}, \"type\": \"parcoords\"}], \"pie\": [{\"automargin\": true, \"type\": \"pie\"}], \"scatter\": [{\"marker\": {\"colorbar\": {\"outlinewidth\": 0, \"ticks\": \"\"}}, \"type\": \"scatter\"}], \"scatter3d\": [{\"line\": {\"colorbar\": {\"outlinewidth\": 0, \"ticks\": \"\"}}, \"marker\": {\"colorbar\": {\"outlinewidth\": 0, \"ticks\": \"\"}}, \"type\": \"scatter3d\"}], \"scattercarpet\": [{\"marker\": {\"colorbar\": {\"outlinewidth\": 0, \"ticks\": \"\"}}, \"type\": \"scattercarpet\"}], \"scattergeo\": [{\"marker\": {\"colorbar\": {\"outlinewidth\": 0, \"ticks\": \"\"}}, \"type\": \"scattergeo\"}], \"scattergl\": [{\"marker\": {\"colorbar\": {\"outlinewidth\": 0, \"ticks\": \"\"}}, \"type\": \"scattergl\"}], \"scattermapbox\": [{\"marker\": {\"colorbar\": {\"outlinewidth\": 0, \"ticks\": \"\"}}, \"type\": \"scattermapbox\"}], \"scatterpolar\": [{\"marker\": {\"colorbar\": {\"outlinewidth\": 0, \"ticks\": \"\"}}, \"type\": \"scatterpolar\"}], \"scatterpolargl\": [{\"marker\": {\"colorbar\": {\"outlinewidth\": 0, \"ticks\": \"\"}}, \"type\": \"scatterpolargl\"}], \"scatterternary\": [{\"marker\": {\"colorbar\": {\"outlinewidth\": 0, \"ticks\": \"\"}}, \"type\": \"scatterternary\"}], \"surface\": [{\"colorbar\": {\"outlinewidth\": 0, \"ticks\": \"\"}, \"colorscale\": [[0.0, \"#0d0887\"], [0.1111111111111111, \"#46039f\"], [0.2222222222222222, \"#7201a8\"], [0.3333333333333333, \"#9c179e\"], [0.4444444444444444, \"#bd3786\"], [0.5555555555555556, \"#d8576b\"], [0.6666666666666666, \"#ed7953\"], [0.7777777777777778, \"#fb9f3a\"], [0.8888888888888888, \"#fdca26\"], [1.0, \"#f0f921\"]], \"type\": \"surface\"}], \"table\": [{\"cells\": {\"fill\": {\"color\": \"#EBF0F8\"}, \"line\": {\"color\": \"white\"}}, \"header\": {\"fill\": {\"color\": \"#C8D4E3\"}, \"line\": {\"color\": \"white\"}}, \"type\": \"table\"}]}, \"layout\": {\"annotationdefaults\": {\"arrowcolor\": \"#2a3f5f\", \"arrowhead\": 0, \"arrowwidth\": 1}, \"autotypenumbers\": \"strict\", \"coloraxis\": {\"colorbar\": {\"outlinewidth\": 0, \"ticks\": \"\"}}, \"colorscale\": {\"diverging\": [[0, \"#8e0152\"], [0.1, \"#c51b7d\"], [0.2, \"#de77ae\"], [0.3, \"#f1b6da\"], [0.4, \"#fde0ef\"], [0.5, \"#f7f7f7\"], [0.6, \"#e6f5d0\"], [0.7, \"#b8e186\"], [0.8, \"#7fbc41\"], [0.9, \"#4d9221\"], [1, \"#276419\"]], \"sequential\": [[0.0, \"#0d0887\"], [0.1111111111111111, \"#46039f\"], [0.2222222222222222, \"#7201a8\"], [0.3333333333333333, \"#9c179e\"], [0.4444444444444444, \"#bd3786\"], [0.5555555555555556, \"#d8576b\"], [0.6666666666666666, \"#ed7953\"], [0.7777777777777778, \"#fb9f3a\"], [0.8888888888888888, \"#fdca26\"], [1.0, \"#f0f921\"]], \"sequentialminus\": [[0.0, \"#0d0887\"], [0.1111111111111111, \"#46039f\"], [0.2222222222222222, \"#7201a8\"], [0.3333333333333333, \"#9c179e\"], [0.4444444444444444, \"#bd3786\"], [0.5555555555555556, \"#d8576b\"], [0.6666666666666666, \"#ed7953\"], [0.7777777777777778, \"#fb9f3a\"], [0.8888888888888888, \"#fdca26\"], [1.0, \"#f0f921\"]]}, \"colorway\": [\"#636efa\", \"#EF553B\", \"#00cc96\", \"#ab63fa\", \"#FFA15A\", \"#19d3f3\", \"#FF6692\", \"#B6E880\", \"#FF97FF\", \"#FECB52\"], \"font\": {\"color\": \"#2a3f5f\"}, \"geo\": {\"bgcolor\": \"white\", \"lakecolor\": \"white\", \"landcolor\": \"#E5ECF6\", \"showlakes\": true, \"showland\": true, \"subunitcolor\": \"white\"}, \"hoverlabel\": {\"align\": \"left\"}, \"hovermode\": \"closest\", \"mapbox\": {\"style\": \"light\"}, \"paper_bgcolor\": \"white\", \"plot_bgcolor\": \"#E5ECF6\", \"polar\": {\"angularaxis\": {\"gridcolor\": \"white\", \"linecolor\": \"white\", \"ticks\": \"\"}, \"bgcolor\": \"#E5ECF6\", \"radialaxis\": {\"gridcolor\": \"white\", \"linecolor\": \"white\", \"ticks\": \"\"}}, \"scene\": {\"xaxis\": {\"backgroundcolor\": \"#E5ECF6\", \"gridcolor\": \"white\", \"gridwidth\": 2, \"linecolor\": \"white\", \"showbackground\": true, \"ticks\": \"\", \"zerolinecolor\": \"white\"}, \"yaxis\": {\"backgroundcolor\": \"#E5ECF6\", \"gridcolor\": \"white\", \"gridwidth\": 2, \"linecolor\": \"white\", \"showbackground\": true, \"ticks\": \"\", \"zerolinecolor\": \"white\"}, \"zaxis\": {\"backgroundcolor\": \"#E5ECF6\", \"gridcolor\": \"white\", \"gridwidth\": 2, \"linecolor\": \"white\", \"showbackground\": true, \"ticks\": \"\", \"zerolinecolor\": \"white\"}}, \"shapedefaults\": {\"line\": {\"color\": \"#2a3f5f\"}}, \"ternary\": {\"aaxis\": {\"gridcolor\": \"white\", \"linecolor\": \"white\", \"ticks\": \"\"}, \"baxis\": {\"gridcolor\": \"white\", \"linecolor\": \"white\", \"ticks\": \"\"}, \"bgcolor\": \"#E5ECF6\", \"caxis\": {\"gridcolor\": \"white\", \"linecolor\": \"white\", \"ticks\": \"\"}}, \"title\": {\"x\": 0.05}, \"xaxis\": {\"automargin\": true, \"gridcolor\": \"white\", \"linecolor\": \"white\", \"ticks\": \"\", \"title\": {\"standoff\": 15}, \"zerolinecolor\": \"white\", \"zerolinewidth\": 2}, \"yaxis\": {\"automargin\": true, \"gridcolor\": \"white\", \"linecolor\": \"white\", \"ticks\": \"\", \"title\": {\"standoff\": 15}, \"zerolinecolor\": \"white\", \"zerolinewidth\": 2}}}},                        {\"responsive\": true}                    ).then(function(){\n",
       "                            \n",
       "var gd = document.getElementById('e673160c-2f51-400a-bcc8-3c40341fb792');\n",
       "var x = new MutationObserver(function (mutations, observer) {{\n",
       "        var display = window.getComputedStyle(gd).display;\n",
       "        if (!display || display === 'none') {{\n",
       "            console.log([gd, 'removed!']);\n",
       "            Plotly.purge(gd);\n",
       "            observer.disconnect();\n",
       "        }}\n",
       "}});\n",
       "\n",
       "// Listen for the removal of the full notebook cells\n",
       "var notebookContainer = gd.closest('#notebook-container');\n",
       "if (notebookContainer) {{\n",
       "    x.observe(notebookContainer, {childList: true});\n",
       "}}\n",
       "\n",
       "// Listen for the clearing of the current output cell\n",
       "var outputEl = gd.closest('.output');\n",
       "if (outputEl) {{\n",
       "    x.observe(outputEl, {childList: true});\n",
       "}}\n",
       "\n",
       "                        })                };                });            </script>        </div>"
      ]
     },
     "metadata": {},
     "output_type": "display_data"
    }
   ],
   "source": [
    "import plotly.graph_objects as go\n",
    "\n",
    "fig = go.Figure(data=go.Choropleth(\n",
    "    locations=subset_size_df['CountryName'],\n",
    "    z=discrimination_scores_per_country['score'].astype(float),\n",
    "    locationmode='country names',\n",
    "    colorscale='Hot',\n",
    "    autocolorscale=False,\n",
    "    text=\"\", # hover text\n",
    "    marker_line_color='white', # line markers between states\n",
    "    colorbar_title=\"Acceptance score\"\n",
    "\n",
    "))\n",
    "fig.update_geos(\n",
    "    fitbounds=\"locations\",\n",
    "    resolution=110,\n",
    "    visible=False,\n",
    "    showframe=False,\n",
    "    projection={\"type\": \"mercator\"},\n",
    "    scope=\"europe\"\n",
    ")\n",
    "fig.show()"
   ]
  },
  {
   "cell_type": "markdown",
   "id": "sensitive-defeat",
   "metadata": {},
   "source": [
    "#### What can we infer from that?\n",
    "\n",
    "- it seems there is more discrimination in eastern and southern Europe but it's not a standard.\n",
    "- The UK case is quite puzzling, I'm wondering whether this is anomaly or not.\n"
   ]
  },
  {
   "cell_type": "markdown",
   "id": "legal-premium",
   "metadata": {},
   "source": [
    "# Improvements to the analysis"
   ]
  },
  {
   "cell_type": "markdown",
   "id": "italian-breakdown",
   "metadata": {},
   "source": [
    "A few things could have been made better, such as:\n",
    "\n",
    "- use the entire discrimination dataset instead of a subset of it\n",
    "- use all the four other datasets because they also relate to discrimination questions\n"
   ]
  },
  {
   "cell_type": "code",
   "execution_count": null,
   "id": "consolidated-visit",
   "metadata": {},
   "outputs": [],
   "source": []
  },
  {
   "cell_type": "code",
   "execution_count": null,
   "id": "banned-discovery",
   "metadata": {},
   "outputs": [],
   "source": []
  }
 ],
 "metadata": {
  "kernelspec": {
   "display_name": "Python 3",
   "language": "python",
   "name": "python3"
  },
  "language_info": {
   "codemirror_mode": {
    "name": "ipython",
    "version": 3
   },
   "file_extension": ".py",
   "mimetype": "text/x-python",
   "name": "python",
   "nbconvert_exporter": "python",
   "pygments_lexer": "ipython3",
   "version": "3.9.1"
  }
 },
 "nbformat": 4,
 "nbformat_minor": 5
}
